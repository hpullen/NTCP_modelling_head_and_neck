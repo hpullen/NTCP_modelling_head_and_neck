{
 "cells": [
  {
   "cell_type": "markdown",
   "metadata": {},
   "source": [
    "# Validation of external NTCP models"
   ]
  },
  {
   "cell_type": "markdown",
   "metadata": {},
   "source": [
    "## Data loading"
   ]
  },
  {
   "cell_type": "code",
   "execution_count": 19,
   "metadata": {},
   "outputs": [],
   "source": [
    "import pandas as pd\n",
    "import numpy as np\n",
    "\n",
    "# Load general patient info\n",
    "patient_info = pd.read_csv('data/final/patient_info.csv')\n",
    "patient_info = patient_info[patient_info['has_baseline'] & patient_info['has_dose']]\n",
    "patient_info.set_index('patient', drop=False, inplace=True)\n",
    "\n",
    "def prepare_data(months, drop_null=[], to_remove={}, to_binarise={}, to_add=[], \n",
    "                 to_binarise_range={}, patients=None):\n",
    "    \"\"\"Load a DataFrame, drop unwanted entries, and add any extra columns.\n",
    "    \n",
    "    Arguments:\n",
    "    months -- follow-up timepoint to load\n",
    "    drop_null -- list of columns for which to drop null entries\n",
    "    to_remove -- dict of columns with a list of values to remove\n",
    "    to_binarise -- dict of columns to binarise\n",
    "    to_add -- list of extra features to add from patient data\n",
    "    to_binarise_range -- dict of columns to binarise, with a min and max value for each\n",
    "    patients -- list of patients to load. If None, all will be loaded\n",
    "    \"\"\"\n",
    "    \n",
    "    # Read in data\n",
    "    df = pd.read_csv(f'data/final/late_{months}_months.csv')\n",
    "    \n",
    "    # Remove patients not in patient list\n",
    "    if patients is not None:\n",
    "        df = df[df['patient'].isin(patients)]\n",
    "            \n",
    "    # Remove null entries\n",
    "    for feature in drop_null:\n",
    "        n_to_drop = df[feature].isnull().sum()\n",
    "        if n_to_drop:\n",
    "            print(f'[INFO] Dropping {n_to_drop} entries with null {feature}')\n",
    "        df=df[df[feature].notnull()]\n",
    "    \n",
    "    # Remove patients if required\n",
    "    for feature, values in to_remove.items():\n",
    "        if not isinstance(values, list):\n",
    "            values = [values]\n",
    "        idx_to_remove = df[df[feature].isin(values)].index\n",
    "        print(f'[INFO] Removing {len(idx_to_remove)} entries with {feature} in {values}')\n",
    "        df.drop(idx_to_remove, inplace=True)\n",
    "        \n",
    "    # Create new columns\n",
    "    for feature, name_dict in to_binarise.items():\n",
    "        for name, value in name_dict.items():\n",
    "            print(f'[INFO] Adding new column {name} ({feature} == {value})')\n",
    "            if isinstance(value, list):\n",
    "                df[name] = (df[feature].isin(value)).astype(int)\n",
    "            else:\n",
    "                df[name] = (df[feature] == value).astype(int)\n",
    "                \n",
    "    # Binarise ranges\n",
    "    for feature, name_dict in to_binarise_range.items():\n",
    "        for name, value in name_dict.items():\n",
    "            print(f'[INFO] Adding new column {name} ({value[0]} < {feature} < {value[1]}])')\n",
    "            df[name] = ((df[feature] > value[0]) & (df[feature] < value[1])).astype(int)\n",
    "            \n",
    "    # Add extra info from patient data\n",
    "    for feature in to_add:\n",
    "        print(f'[INFO] Adding column {feature} from patient info dataframe')\n",
    "        df[feature] = df['patient'].apply(\n",
    "            lambda p: patient_info.loc[p, feature])\n",
    "    \n",
    "    # Reset index and return dataframe\n",
    "    df.reset_index(drop=True)\n",
    "    print(f'[INFO] Loaded dataset with {len(df)} entries')\n",
    "    return df"
   ]
  },
  {
   "cell_type": "markdown",
   "metadata": {},
   "source": [
    "### Make demographics table of data"
   ]
  },
  {
   "cell_type": "code",
   "execution_count": 20,
   "metadata": {},
   "outputs": [],
   "source": [
    "import json\n",
    "from scipy.stats import chi2_contingency\n",
    "\n",
    "def start_table(file, caption, fmt, headers, extra_rule=False, extra_header=''):\n",
    "    \"\"\"Print the start of a latex table to a file.\n",
    "    \n",
    "    Arguments:\n",
    "    file -- a file object to write to.\n",
    "    caption -- table caption.\n",
    "    fmt -- format string for a latex tabular.\n",
    "    headers -- list of column headers (must match fmt).\n",
    "    extra_rule -- whether to add a second midrule after header.\n",
    "    extra_line -- optional extra header line\n",
    "    \"\"\"\n",
    "    \n",
    "    file.write('\\\\begin{table}\\n')\n",
    "    file.write(f'    \\\\caption{{{caption}}}\\n')\n",
    "    file.write('    \\\\begin{tabular}{llrrl}\\n')\n",
    "    file.write('        \\\\toprule\\n')\n",
    "    header_line = '        '\n",
    "    if len(extra_header):\n",
    "        file.write(extra_header)\n",
    "    for i, h in enumerate(headers):\n",
    "        header_line += h + ' '\n",
    "        if i < len(headers) - 1:\n",
    "            header_line += '& '\n",
    "    header_line += '\\\\\\\\\\n'\n",
    "    file.write(header_line)\n",
    "    file.write('        \\\\midrule\\n')\n",
    "    if extra_rule:\n",
    "        file.write('        \\\\midrule\\n')\n",
    "        \n",
    "     \n",
    "def end_table(file, label):\n",
    "    \"\"\"Write the end of a latex table to file, with label\"\"\"\n",
    "    \n",
    "    file.write('        \\\\bottomrule\\n')\n",
    "    file.write('    \\\\end{tabular}\\n')\n",
    "    file.write('\\\\end{table}\\n')\n",
    "    file.write(f'\\\\label{{tab:{label}}}\\n')\n",
    "        \n",
    "\n",
    "def demographics_table(name, df, to_compare=None):\n",
    "    \"\"\"Create a .tex file containing a table comparing a DataFrame to an existing demographic.\n",
    "    \n",
    "    Arguments:\n",
    "    name -- name of .tex file. If no comparison dict is provided, this name is used to \n",
    "            load an existing .json file.\n",
    "    df -- the DataFrame to compare to a dict.\n",
    "    to_compare -- dict of characteristics and population counts. Not needed if a json file exists.\n",
    "    \"\"\"\n",
    "    \n",
    "    # Load json if required\n",
    "    name2 = name.replace(' ', '_').lower()\n",
    "    if to_compare is None:\n",
    "        with open(f'demographics/{name2}.json') as file:\n",
    "            to_compare = json.load(file)\n",
    "    \n",
    "    # Open latex file and set up table\n",
    "    file = open(f'demographics/{name2}.tex', 'w')\n",
    "    caption = f'Demographics and tumour characteristics for the {name} cohort' \\\n",
    "              f' (training set) and the VoxTox cohort (validation set).'\n",
    "    fmt = 'llrrr'\n",
    "    headers = ['Characteristic', 'Value', name, 'VoxTox', '$p$-value']\n",
    "    start_table(file, caption, fmt, headers, extra_rule=True)\n",
    "    \n",
    "    # Write number of patients first if included\n",
    "    if 'n_patients' in to_compare:\n",
    "        file.write(f'        \\\\multicolumn{{2}}{{l}}{{Number of patients}} & {to_compare[\"n_patients\"]}'\n",
    "                   f' & {len(df)} & \\\\\\\\\\n')\n",
    "        file.write('        \\\\midrule\\n')\n",
    "    \n",
    "    # Loop through characteristics\n",
    "    for c in to_compare.keys():\n",
    "        if c == 'n_patients':\n",
    "            continue\n",
    "        file.write(f'        {c.capitalize()} &')\n",
    "        cats = to_compare[c]\n",
    "        \n",
    "        # Make arrays for chisq test\n",
    "        vals1 = []\n",
    "        vals2 = []\n",
    "        \n",
    "        # Loop through categories of the characteristic\n",
    "        extra_lines = []\n",
    "        counted = 0\n",
    "        n_other = 0\n",
    "        use_p_val = True\n",
    "        for i, cat in enumerate(cats.keys()):\n",
    "            val1 = cats[cat]\n",
    "            name = cat.capitalize()\n",
    "            \n",
    "            # Extract characteristic from VoxTox dataset\n",
    "            val2 = 0\n",
    "            \n",
    "            # Sex\n",
    "            if c == 'sex':\n",
    "                val2 = (df['male'] == (cat == 'male')).sum()\n",
    "                \n",
    "            # Age\n",
    "            elif c == 'age':\n",
    "                if cat.startswith('<'):\n",
    "                    cutoff = int(cat[2:])\n",
    "                    val2 = (df['age'] < cutoff).sum()\n",
    "                    name = f'$< {cutoff}$'\n",
    "                elif cat.startswith('>'):\n",
    "                    cutoff = int(cat[2:])\n",
    "                    val2 = (df['age'] >= cutoff).sum()\n",
    "                    name = f'$>= {cutoff}$'\n",
    "                elif cat == 'mean':\n",
    "                    use_p_val = False\n",
    "                    val2 = f'{df[\"age\"].mean():.1f}'\n",
    "                elif cat == 'range':\n",
    "                    use_p_val = False\n",
    "                    val2 = f'{int(df[\"age\"].min())} -- {int(df[\"age\"].max())}'\n",
    "            \n",
    "            # Cisplatin/cetuximab\n",
    "            elif c == 'chemotherapy':\n",
    "                var_to_use = 'cisplatin' if 'cetuximab' in to_compare else 'SACT'\n",
    "                val2 = (df[var_to_use] == (cat == 'yes')).sum()\n",
    "            elif c == 'cetuximab':\n",
    "                val2 = ((df['SACT'] & ~df['cisplatin']) == (cat == 'yes')).sum()\n",
    "                \n",
    "            # Tumour site\n",
    "            elif c == 'site':\n",
    "                site = cat\n",
    "                if cat == 'unknown primary':\n",
    "                    site = 'CUP'\n",
    "                if cat == 'other':\n",
    "                    n_other = val1\n",
    "                    continue\n",
    "                val2 = (df['primary site'] == site).sum()\n",
    "                counted += val2\n",
    "                \n",
    "            # Tumour classification\n",
    "            elif c == 'tumour classification':\n",
    "                T_stage = int(cat[-1])\n",
    "                val2 = (df['T_stage'] == T_stage).sum()\n",
    "            elif c == 'node classification':\n",
    "                val2 = ((df['N_stage'] > 0) == (cat == 'positive')).sum()\n",
    "                \n",
    "            # Neck irradiation\n",
    "            elif c == 'bilateral neck irradiation':\n",
    "                val2 = (df['neck_bi'] == (cat == 'yes')).sum()\n",
    "                \n",
    "            # Unknown characteristic\n",
    "            else:\n",
    "                print(f'[INFO] Characteristic {c} not recognised!')\n",
    "                \n",
    "            # Add values to arrays\n",
    "            vals1.append(val1)\n",
    "            vals2.append(val2)\n",
    "                \n",
    "            # Write info to file\n",
    "            if i == 0:\n",
    "                file.write(f' {name} & {val1} & {val2} & ')\n",
    "            else:\n",
    "                extra_lines.append(f'        & {name} & {val1} & {val2} & \\\\\\\\\\n')\n",
    "                \n",
    "        # Extra line for patients with other tumour sites\n",
    "        if c == 'site' and (counted != len(df) or n_other):\n",
    "            diff = len(df) - counted\n",
    "            extra_lines.append(f'        & Other & {n_other} & {diff} & \\\\\\\\\\n')\n",
    "            vals1.append(n_other)\n",
    "            vals2.append(diff)\n",
    "            site_list = list(cats.keys()) + ['CUP']\n",
    "            sites_missed = df[~df['primary site'].isin(site_list)]['primary site'].unique()\n",
    "            print('[INFO] The following tumour sites were classified as \"other\":')\n",
    "            print('      ', sites_missed)\n",
    "                \n",
    "        # Calculate p-value\n",
    "        obs = np.array([vals1, vals2])\n",
    "        p_to_write = ''\n",
    "        if use_p_val:\n",
    "            chi2, p_val, dof, exp = chi2_contingency(obs)\n",
    "            p_to_write = '$< 0.01$' if p_val < 0.01 else f'{p_val:.2f}'\n",
    "        file.write(f'{p_to_write} \\\\\\\\\\n')\n",
    "        \n",
    "        # Write extra lines\n",
    "        for line in extra_lines:\n",
    "            file.write(line)\n",
    "            \n",
    "        # Write midrule if needed\n",
    "        if c != list(to_compare.keys())[-1]:\n",
    "            file.write('        \\\\midrule\\n')\n",
    "            \n",
    "    # End table\n",
    "    end_table(file, f'{name2}_demog')\n",
    "    file.close()\n",
    "    "
   ]
  },
  {
   "cell_type": "markdown",
   "metadata": {},
   "source": [
    "## Model validation"
   ]
  },
  {
   "cell_type": "code",
   "execution_count": 21,
   "metadata": {},
   "outputs": [],
   "source": [
    "# Class for performing model validation\n",
    "import os\n",
    "import matplotlib.pyplot as plt\n",
    "from sklearn.metrics import brier_score_loss\n",
    "from sklearn.metrics import roc_auc_score\n",
    "from sklearn.calibration import calibration_curve\n",
    "from sklearn.utils import resample\n",
    "from sklearn.metrics import plot_roc_curve\n",
    "from scipy.stats import chi2\n",
    "from sklearn.metrics import classification_report\n",
    "from sklearn.linear_model import LogisticRegression\n",
    "\n",
    "\n",
    "class ModelValidator():\n",
    "    \n",
    "    def __init__(self, name, model, X, y, retrain=True, use_bootstrap=False):\n",
    "        \"\"\"Write performance metrics and produce plots for a given model. \n",
    "        The model is also retrained on X and y.\n",
    "\n",
    "        Arguments:\n",
    "        name -- this determines the location of output logs/plots.\n",
    "        model -- a model with coefficients set.\n",
    "        X -- input features.\n",
    "        y -- true outcomes.\n",
    "        use_bootstrap -- if True, the ROC AUC confidence interval is calculated with bootstrapping.\n",
    "\n",
    "        Return values:\n",
    "        model_retrained -- original model retrained on X and y.\n",
    "        \"\"\"\n",
    "    \n",
    "        # Initial settings\n",
    "        self.name = name\n",
    "        self.models = {'original': model}\n",
    "        self.X = X\n",
    "        self.y = y\n",
    "        self.use_bootstrap = use_bootstrap\n",
    "        self.set_outdirs()\n",
    "        self.metrics = {}\n",
    "        self.y_pred = {}\n",
    "        self.y_prob = {}\n",
    "    \n",
    "        # Open performance log file\n",
    "        self.file = open(f'{self.outdir}/validation.log', 'w')\n",
    "\n",
    "        # Print prevalence\n",
    "        self.file.write(f'Number of patients: {len(X)}\\n')\n",
    "        self.prev = self.y.sum() / self.y.count()\n",
    "        self.file.write(f'Prevalence: {self.prev * 100:.1f}%\\n\\n')\n",
    "\n",
    "        # Get retrained model\n",
    "        if retrain:\n",
    "            self.models['retrained'] = self.retrain_model(model)\n",
    "\n",
    "        # Get performance of both models\n",
    "        for m in self.models.keys():\n",
    "            \n",
    "            # Get performance metrics\n",
    "            self.get_performance_metrics(m)\n",
    "\n",
    "            # Print metrics to log file\n",
    "            self.print_model_performance(m)\n",
    "\n",
    "            # Plot probability distributions\n",
    "            if self.y.nunique() > 1:\n",
    "                self.plot_probabilities(m)\n",
    "\n",
    "        # Plot ROC on same axis\n",
    "        if self.y.nunique() > 1:\n",
    "            self.plot_roc()\n",
    "\n",
    "        # Close file\n",
    "        self.file.close()\n",
    "        print(f'\\n[INFO] Model validation log saved to {self.outdir}/validation.log')\n",
    "\n",
    "    def set_outdirs(self):\n",
    "        \"\"\"Ensure that validation results and figure directories exist for a \n",
    "        given name, and return the paths to these directories.\"\"\"\n",
    "        self.outdir = 'validation_results/' + self.name.replace(' ', '_')\n",
    "        if not os.path.isdir(self.outdir):\n",
    "            os.mkdir(self.outdir)\n",
    "        self.figdir = self.outdir + '/figs'\n",
    "        if not os.path.isdir(self.figdir):\n",
    "            os.mkdir(self.figdir)\n",
    "            \n",
    "    def plot_features(self, feature_titles=None):\n",
    "        \"\"\"Plot histograms of each feature\n",
    "        Can optionally pass a dict of titles for each feature.\"\"\"\n",
    "        if feature_titles == None:\n",
    "            feature_titles = {f: f for f in X.columns}\n",
    "        for f, title in feature_titles.items():\n",
    "            plt.figure();\n",
    "            self.X[f].hist();\n",
    "            plt.xlabel(title)\n",
    "            plt.ylabel('Number of entries')\n",
    "            plt.savefig(os.path.join(self.figdir, f'distribution_{f}.pdf'))\n",
    "            plt.close()\n",
    "            \n",
    "    def retrain_model(self, model):\n",
    "        \"\"\"Return a new version of a given model, retrained on X and y.\"\"\"\n",
    "        if isinstance(model, LogisticRegression):\n",
    "            model_retrained = LogisticRegression()\n",
    "            print('[INFO]: Retraining logistic regression model')\n",
    "            model_retrained.fit(self.X, self.y)\n",
    "            return model_retrained\n",
    "        \n",
    "    def get_performance_metrics(self, m):\n",
    "        \"\"\"Fill dictionaries with performance metrics for a given model.\n",
    "        \n",
    "        Arguments:\n",
    "        m -- model name\n",
    "        \"\"\"\n",
    "        \n",
    "        # Check the model exists\n",
    "        if m not in self.models:\n",
    "            print(f'[ERROR]: model {m} does not exist.')\n",
    "            return\n",
    "        \n",
    "        # Make container for the metrics\n",
    "        self.metrics[m] = {}\n",
    "        \n",
    "        # Get predicted outcomes and probabilties\n",
    "        self.y_pred[m] = self.models[m].predict(self.X)\n",
    "        self.y_prob[m] = self.models[m].predict_proba(self.X)[:, 1]\n",
    "        \n",
    "        # Find Brier score\n",
    "        self.metrics[m]['brier_score'] = brier_score_loss(self.y, self.y_prob[m])\n",
    "        self.metrics[m]['brier_score_custom'] = np.sum((self.y_prob[m] - self.y)**2) / len(self.y)\n",
    "        self.brier_max = self.prev * (1 - self.prev)\n",
    "        self.metrics[m]['brier_score_scaled'] = self.metrics[m]['brier_score'] / self.brier_max\n",
    "        \n",
    "        # Find ROC AUC\n",
    "        if self.y.nunique() > 1:\n",
    "            auc = roc_auc_score(self.y, self.y_prob[m])\n",
    "            self.metrics[m]['auc'] = auc\n",
    "        \n",
    "            # Estimate ROC confidence interval assuming Gaussian distribution\n",
    "            N1 = self.y.sum()\n",
    "            N2 = len(self.y) - N1\n",
    "            Q1 = auc / (2 - auc)\n",
    "            Q2 = 2 * auc**2 / (1 + auc)\n",
    "            SE = np.sqrt(\n",
    "                (auc * (1 - auc) + (N1 - 2) * (Q1 - auc**2) + (N2 - 1) * (Q2 - auc**2))\n",
    "                / (N1 * N2)\n",
    "            )\n",
    "            z = 1.96\n",
    "            self.metrics[m]['auc_lower'] = auc - z * SE\n",
    "            self.metrics[m]['auc_upper'] = auc + z * SE\n",
    "\n",
    "            # Estimate ROC confidence interval with bootstrapping\n",
    "            if self.use_bootstrap:\n",
    "                self.get_auc_bootstrap(m)\n",
    "            \n",
    "        # Get calibration metrics and plot calibration curve\n",
    "        self.get_calibration(m)\n",
    "        \n",
    "        # Perform Hosmer-Lemeshow goodness-of-fit test\n",
    "        # self.hosmer_lemeshow(m)\n",
    "            \n",
    "    def get_auc_bootstrap(self, m):\n",
    "        \"\"\"Estimate AUC distribition using bootstrapping for a given model.\n",
    "        \n",
    "        Arguments:\n",
    "        m --  model name\n",
    "        \"\"\"\n",
    "\n",
    "        # Get distribution\n",
    "        n_iter = 1000\n",
    "        X_and_y = self.X.copy()\n",
    "        X_and_y['y'] = self.y\n",
    "        auc_scores = []\n",
    "        for i in range(n_iter):\n",
    "            to_use = resample(X_and_y, n_samples=len(X_and_y))\n",
    "            X_to_use = to_use.drop('y', axis=1)\n",
    "            y_to_use = to_use['y']\n",
    "            y_prob_bootstrap = self.models[m].predict_proba(X_to_use)[:, 1]\n",
    "            auc_scores.append(roc_auc_score(y_to_use, y_prob_bootstrap))\n",
    "        self.metrics[m]['auc_bootstrap'] = np.mean(auc_scores)\n",
    "\n",
    "        # Calculate confidence interval\n",
    "        alpha = 0.95\n",
    "        p = ((1.0 - alpha) / 2.0) * 100\n",
    "        self.metrics[m]['auc_bootstrap_lower'] = max(\n",
    "            0.0, np.percentile(auc_scores, p))\n",
    "        p = (alpha + ((1.0 - alpha) / 2.0)) * 100\n",
    "        self.metrics[m]['auc_bootstrap_upper'] = min(\n",
    "            1.0, np.percentile(auc_scores, p))\n",
    "\n",
    "        # Plot distribution\n",
    "        plt.figure();\n",
    "        plt.xlabel('ROC AUC')\n",
    "        plt.ylabel('Number of bootstrap samples')\n",
    "        ax = plt.gca()\n",
    "        y_hist, x_hist, _ = ax.hist(auc_scores, label='Bootstrap')\n",
    "\n",
    "        # Add Gaussian from simple calculation\n",
    "        x_plt = np.arange(ax.get_xlim()[0], ax.get_xlim()[1], 0.01)\n",
    "        y_plt = np.exp(-(x_plt - auc)**2 / (2 * SE**2)) * y_hist.max()\n",
    "        plt.plot(x_plt, y_plt, 'r', label='Gaussian');\n",
    "        plt.legend()\n",
    "        plt.savefig(os.path.join(self.figdir, 'ROC_AUC_bootstrap.pdf'), dpi=150)\n",
    "        plt.close()\n",
    "          \n",
    "    def get_calibration(self, m, bins=8):\n",
    "        \"\"\"Plot the calibration curve for a model and print slope/intercept to a file.\n",
    "\n",
    "        Arguments:\n",
    "        m -- model name.\n",
    "        bins -- number of bins.\n",
    "        \"\"\"\n",
    "        fraction_of_positives, mean_predicted_value = calibration_curve(\n",
    "            self.y, self.y_prob[m], n_bins=bins)\n",
    "        plt.figure();\n",
    "        plt.plot([0, 1], [0, 1], \"k:\", label=\"Perfectly calibrated\");\n",
    "        plt.scatter(mean_predicted_value, fraction_of_positives, label=self.name);\n",
    "        plt.xlabel('Predicted risk')\n",
    "        plt.ylabel('Observed risk')\n",
    "\n",
    "        # Get calibration slope and intercept\n",
    "        p = np.polyfit(mean_predicted_value, fraction_of_positives, 1)\n",
    "        self.metrics[m]['calibration_slope'] = p[0]\n",
    "        self.metrics[m]['calibration_intercept'] = p[1]\n",
    "\n",
    "        # Plot line of best fit and save\n",
    "        x_plt = np.arange(0, 1, 0.01);\n",
    "        plt.plot(x_plt, p[0] * x_plt + p[1], label='Line of best fit');\n",
    "        plt.legend();\n",
    "        plt.savefig(os.path.join(self.figdir, f'calibration_{m}.pdf'))\n",
    "        plt.close()\n",
    "\n",
    "    def print_model_performance(self, m):\n",
    "        \"\"\"Print performance metrics for a given model to the log file.\n",
    "\n",
    "        Arguments:\n",
    "        m -- model name\n",
    "        \"\"\"\n",
    "\n",
    "        # Print model coefficients \n",
    "        if isinstance(self.models[m], LogisticRegression):\n",
    "            self.file.write(f'\\nPARAMETERS OF {m.upper()} MODEL:\\n')\n",
    "            for i, coef in enumerate(self.models[m].coef_[0]):\n",
    "                self.file.write(f'Coef. of {self.X.columns[i]}: {coef}\\n')\n",
    "            self.file.write(f'Intercept: {self.models[m].intercept_[0]}\\n\\n')\n",
    "\n",
    "        # Classification report/confusion matrix\n",
    "        self.file.write('CLASSIFICATION REPORT:\\n')\n",
    "        self.file.write(classification_report(self.y, self.y_pred[m]))\n",
    "        self.file.write('\\nCONFUSION MATRIX:\\n')\n",
    "        self.file.write(pd.crosstab(\n",
    "            self.y, self.y_pred[m], rownames=['True'], colnames=['Predicted'], \n",
    "            margins=True).to_string())\n",
    "\n",
    "        # Brier score\n",
    "        self.file.write('\\n\\nBRIER SCORE:\\n')\n",
    "        self.file.write(f'Brier score: '\n",
    "                        f'{self.metrics[m][\"brier_score\"]:.3f}\\n')\n",
    "        self.file.write(f'Brier score (manual): '\n",
    "                        f'{self.metrics[m][\"brier_score_custom\"]:.3f}\\n')\n",
    "        self.file.write(f'Max Brier score: '\n",
    "                        f'{self.brier_max:.3f}\\n')\n",
    "        self.file.write(f'Scaled Brier score: '\n",
    "                        f'{self.metrics[m][\"brier_score_scaled\"]:.3f}\\n')\n",
    "\n",
    "        # Mean probabilities for both cases\n",
    "        self.file.write(f'Mean probability for entries with toxicity: '\n",
    "                        f'{self.y_prob[m][self.y == 1].mean():.3f}\\n')\n",
    "        self.file.write(f'Mean probability for entries without toxicity: '\n",
    "                        f'{self.y_prob[m][self.y == 0].mean():.3f}\\n')\n",
    "\n",
    "        # Calculate ROC AUC\n",
    "        if \"auc\" in self.metrics[m]:\n",
    "            self.file.write('\\nROC AREA UNDER CURVE:\\n')\n",
    "            self.file.write(f'Area under ROC: {self.metrics[m][\"auc\"]:.3f}\\n')\n",
    "            self.file.write(f'95% confidence interval: '\n",
    "                       f'[{self.metrics[m][\"auc_lower\"]:.3f}, '\n",
    "                       f'{self.metrics[m][\"auc_upper\"]:.3f}]\\n')\n",
    "\n",
    "        # Write details from bootstrapping\n",
    "        if self.use_bootstrap:\n",
    "            self.file.write('\\nROC AREA UNDER CURVE (BOOTSTRAPPING):\\n')\n",
    "            self.file.write(f'Mean area under curve: '\n",
    "                            f'{self.metrics[m][\"auc_bootstrap\"]:.3f}\\n')\n",
    "            self.file.write(f'{alpha * 100}% confidence interval: '\n",
    "                            f'[{self.metrics[m][\"auc_bootstrap_lower\"]:.3f}, '\n",
    "                            f'{self.metrics[m][\"auc_bootstrap_upper\"]:.3f}]\\n')\n",
    "\n",
    "        # Write calibration metrics\n",
    "        self.file.write('\\nCALIBRATION:\\n')\n",
    "        self.file.write(f'Slope: {self.metrics[m][\"calibration_slope\"]:.3f}\\n')\n",
    "        self.file.write(f'Intercept: {self.metrics[m][\"calibration_intercept\"]:.3f}\\n')\n",
    "        \n",
    "        # Write Hosmer-Lemeshow test results\n",
    "#         self.file.write('\\nHOSMER-LEMESHOW GOODNESS-OF-FIT TEST:\\n')\n",
    "#         self.file.write(f'HL chi^2: {self.metrics[m][\"hl_chi2\"]:.3f}\\n')\n",
    "#         self.file.write(f'p-value: {self.metrics[m][\"hl_pval\"]:.3f}\\n')\n",
    "\n",
    "    def plot_probabilities(self, m):\n",
    "        \"\"\"Plot the distributions of predicted probabilities for cases with and without true toxicity.\n",
    "\n",
    "        Arguments:\n",
    "        m -- model name.\n",
    "        \"\"\"\n",
    "\n",
    "        plt.figure()\n",
    "        for tox in [0, 1]:\n",
    "            y_prob_sub = self.models[m].predict_proba(self.X[self.y == tox])[:, 1]\n",
    "            plt.hist(y_prob_sub, label=f'Toxicity = {tox}', alpha=0.3, linestyle='solid')\n",
    "        plt.legend()\n",
    "        plt.xlabel('Predicted probability')\n",
    "        plt.ylabel('Number of entries')\n",
    "        plt.savefig(os.path.join(self.figdir, f'probabilities_{m}.pdf'))\n",
    "        plt.close()\n",
    "\n",
    "    def plot_roc(self):\n",
    "        \"\"\"Plot ROC curve for all models and save to a file.\"\"\"\n",
    "\n",
    "        fig = plt.figure()\n",
    "        ax = plt.gca()\n",
    "        for m, model in self.models.items():\n",
    "            plot_roc_curve(model, self.X, self.y, \n",
    "                           label=m, ax=ax)\n",
    "        ax.plot([0, 1], [0, 1], \"k:\", label=\"Chance\")\n",
    "        ax.legend(loc='lower right')\n",
    "        fig.savefig(os.path.join(self.figdir, 'ROC.pdf'))\n",
    "        plt.close()\n",
    "        \n",
    "    def hosmer_lemeshow(self, m, g=10):\n",
    "        \"\"\"Perform a Hosmer-Lemeshow goodness-of-fit test.\n",
    "        \n",
    "        Arguments:\n",
    "        m -- Model name.\n",
    "        g -- Number of groups to use for the test.\"\"\"\n",
    "        \n",
    "        bin_width = (np.max(self.y_prob[m]) - np.min(self.y_prob[m])) / g\n",
    "        bins_low = np.arange(np.min(self.y_prob[m]), np.max(self.y_prob[m]), bin_width)\n",
    "        ones = np.zeros(g)\n",
    "        zeros = np.zeros(g)\n",
    "        hl_stat = 0\n",
    "        for i in range(g):\n",
    "\n",
    "            # Get number of true ones and zeros in this group\n",
    "            for j, p in enumerate(self.y_prob[m]):\n",
    "                if p > bins_low[i] and p < bins_low[i] + bin_width:\n",
    "                    true_y = self.y.iloc[j]\n",
    "                    if true_y:\n",
    "                        ones[i] += 1\n",
    "                    else:\n",
    "                        zeros[i] += 1\n",
    "\n",
    "            # Add to the score\n",
    "            exp_ones = (bins_low[i] + bin_width / 2) * (ones[i] + zeros[i])\n",
    "            exp_zeros = ones[i] + zeros[i] - exp_ones\n",
    "            hl_stat += (zeros[i] - exp_zeros)**2 / exp_zeros + (ones[i] - exp_ones)**2 / exp_ones\n",
    "\n",
    "        # Calculate p-value from HL score\n",
    "        dof = g - 2\n",
    "        pval = chi2.cdf(hl_stat, dof)\n",
    "        self.metrics[m]['hl_chi2'] = hl_stat\n",
    "        self.metrics[m]['hl_pval'] = pval\n",
    "        "
   ]
  },
  {
   "cell_type": "code",
   "execution_count": 22,
   "metadata": {},
   "outputs": [],
   "source": [
    "# Class for validating a logistic regression\n",
    "from sklearn.linear_model import LogisticRegression\n",
    "\n",
    "class LogisticRegressionValidator(ModelValidator):\n",
    "    \n",
    "    def __init__(self, name, df, coefs, intercept, \n",
    "                 outcome, retrain=True, use_bootstrap=False, \n",
    "                 feature_titles=None):\n",
    "        \"\"\"Create and validate a logistic regression model\n",
    "        \n",
    "        Arguments:\n",
    "        name -- Name of the model. Affects the location of output files.\n",
    "        df -- Pandas DataFrame whose columns include the features and outcome.\n",
    "        coefs -- Dict containing strings corresponding to feature names in df \n",
    "                 and a numerical coefficient for each.\n",
    "        intercept -- Intercept of the model.\n",
    "        outcome -- String corresponding to the column of the outcome in df\n",
    "        use_bootstrap -- Whether to use bootstrapping to calculate ROC AUC \n",
    "                         confidence interval.\n",
    "        feature_titles -- Dict of titles to optionally use for each feature in plots.\n",
    "        \"\"\"\n",
    "        \n",
    "        # Make X and y\n",
    "        self.features = list(coefs.keys())\n",
    "        self.coefs = coefs\n",
    "        self.intercept = intercept\n",
    "        self.df = df\n",
    "        X = df[self.features]\n",
    "        y = df[outcome]\n",
    "        \n",
    "        # Create model\n",
    "        model = LogisticRegression()\n",
    "        \n",
    "        # Initial fit (doesn't matter, but needed to initialise model)\n",
    "        X_for_fit = X\n",
    "        y_for_fit = y\n",
    "        if y.nunique() == 1:\n",
    "            # For fitting, must have 2 different classes in y; create dummy entry\n",
    "            dummy_row = X.iloc[0]\n",
    "            X_for_fit = X.append(dummy_row, ignore_index=True)\n",
    "            y_for_fit = y.append(pd.Series([1 - y.iloc[0]], index=[len(y)]))\n",
    "        model.fit(X_for_fit, y_for_fit)\n",
    "        \n",
    "        # Set model coefficients\n",
    "        model.coef_ = np.array([list(coefs.values())])\n",
    "        model.intercept_ = np.array([intercept])\n",
    "        \n",
    "        # Initialise parent class (this runs the validation)\n",
    "        ModelValidator.__init__(self, name, model, X, y, retrain=retrain, \n",
    "                                use_bootstrap=use_bootstrap)\n",
    "        \n",
    "        # Plot distributions of features\n",
    "        if feature_titles == None:\n",
    "            feature_titles = {f: f for f in self.features}\n",
    "        self.feature_titles = {self.features[i]: feature_titles[self.features[i]] if i < len(feature_titles) \n",
    "                               else self.features[i] for i in range(len(self.features))}\n",
    "        self.plot_features(self.feature_titles)\n",
    "        \n",
    "    # Perform univariate analysis\n",
    "    def univariate_analysis(self, v):\n",
    "        \"\"\"Perform univariate logistic regressions for variables in var_list and \n",
    "        write the output to a latex file. var_list can also be a dictionary\n",
    "        providing titles to give each variable in the table.\"\"\"\n",
    "        \n",
    "        # Get list of variables and dict of titles\n",
    "        var_titles = {}\n",
    "        var_list = []\n",
    "        if isinstance(v, list):\n",
    "            var_titles = {v: v for v in v}\n",
    "            var_list = v\n",
    "        elif isinstance(v, dict):\n",
    "            var_titles = v\n",
    "            var_list = list(v.keys())\n",
    "            \n",
    "        # Create latex table\n",
    "        file = open(f'{self.outdir}/univariate.tex', 'w')\n",
    "        extra_header = '        & \\\\multicolumn{2}{c}{Beetz 2012} & \\\\multicolumn{2}{c}{VoxTox} \\\\\\\\\\n'\n",
    "        start_table(file, f'Univariate analysis of {self.name.capitalize().replace(\"_\", \" \")}', \n",
    "                    'ccccc', ['Variable', '$\\\\beta$', 'Odds ratio', '$\\\\beta$', 'Odds ratio'], \n",
    "                    extra_header=extra_header)\n",
    "        \n",
    "        # Load univariate coefficients from original paper\n",
    "        orig_coefs = {}\n",
    "        with open(f'data/univariate_analysis/{self.name}.json') as uni_file:\n",
    "            orig_coefs = json.load(uni_file)\n",
    "            \n",
    "        # Run logistic regression for each\n",
    "        coefs = {}\n",
    "        odds_ratios = {}\n",
    "        for v in var_list:\n",
    "            coef, odds_ratio = self.univariate_single(v)\n",
    "            orig_coef = orig_coefs[v]\n",
    "            orig_odds_ratio = np.exp(orig_coef)\n",
    "            file.write(f'        {var_titles[v]} & {orig_coef:.2f} & '\n",
    "                       f'{orig_odds_ratio:.2f} & {coef:.2f} & {odds_ratio:.2f} \\\\\\\\\\n')\n",
    "            \n",
    "        # End the table\n",
    "        end_table(file, f'{self.name}_uni')\n",
    "        \n",
    "    # Univariate analysis of single variable\n",
    "    def univariate_single(self, v):\n",
    "        \"\"\"Perform univariate logistic regression for one variable\"\"\"\n",
    "        \n",
    "        model = LogisticRegression()\n",
    "        X_to_use = self.df[[v]][self.df[v].notnull()]\n",
    "        y_to_use = self.y[X_to_use.index]\n",
    "        model.fit(X_to_use, y_to_use)\n",
    "        coef = model.coef_[0][0]\n",
    "        odds_ratio = np.exp(coef)\n",
    "        return coef, odds_ratio\n",
    "        \n",
    "    # Plot logistic regression model\n",
    "    def plot_log_reg(self, hue_var, hue_vals=None, hue_data=False, nbins=6, same_axis=True):\n",
    "        \"\"\"Plot logistic regression curve(s) for original and retrained models.\n",
    "        \n",
    "        Arguments:\n",
    "        hue_var -- Feature for which to plot curves in a different hue.\n",
    "        hue_vals -- Values of this feature for which to plot \n",
    "                    (default = all different values)\n",
    "        hue_data -- Option to also plot real data points in different colours\n",
    "                    (default = all in same colour)\n",
    "        nbins -- Number of bins to use for binning data.\n",
    "        same_axis -- Option to plot the original and retrained model on the same axis.\n",
    "        \"\"\"\n",
    "        \n",
    "        # Create figure\n",
    "        n_subplots = 1 if same_axis else 2\n",
    "        fig, ax = plt.subplots(1, n_subplots, figsize=(8 * n_subplots, 6))\n",
    "        \n",
    "        # Plot both models\n",
    "        ax1 = ax if same_axis else ax[0]\n",
    "        ax2 = ax if same_axis else ax[1]\n",
    "        title1 = self.name.capitalize().replace('_', ' ') + ' model' if same_axis else 'Original model'\n",
    "        title2 = title1 if same_axis else 'Retrained model'\n",
    "        self.plot_single_log_reg('original', ax1, hue_var, hue_vals, \n",
    "                                 hue_data, nbins, legend=(not same_axis),\n",
    "                                 name_in_legend=same_axis, title=title1)\n",
    "        self.plot_single_log_reg('retrained', ax2, hue_var, hue_vals, \n",
    "                                 hue_data, nbins, plot_data=(not same_axis),\n",
    "                                 dotted=same_axis, name_in_legend=same_axis,\n",
    "                                 data_in_legend=False, title=title2)\n",
    "        if same_axis:\n",
    "            ax.legend()\n",
    "        fig.savefig(os.path.join(self.figdir, 'NTCP_model.pdf'))\n",
    "        plt.close()\n",
    "        print('\\n[INFO] Plotted logistic regression model')\n",
    "        \n",
    "    def plot_single_log_reg(self, m, ax, hue_var, hue_vals=None, \n",
    "                            hue_data=False, nbins=6, legend=False,\n",
    "                            plot_data=True, dotted=False, name_in_legend=False,\n",
    "                            data_in_legend=True, title=''):\n",
    "        \"\"\"Plot a single logistic regression model on a given axis.\n",
    "        \n",
    "        Arguments:\n",
    "        m -- Name of model (original/retrained).\n",
    "        ax -- Matplotlib axis on which to plot.\n",
    "        plot_data -- Whether or not to plot real data points.\n",
    "        dotted -- Whether to use dotted lines.\n",
    "        name_in_legend = Whether to include model name in legend labels.\n",
    "        data_in_legend = Whether to include data points in legend.\n",
    "        title -- Optional figure title.\n",
    "        \"\"\"\n",
    "        \n",
    "        # Get coefficients and intercept of the model\n",
    "        model = self.models[m]\n",
    "        coefs = {self.features[i]: model.coef_[0][i] for i in range(len(self.features))}\n",
    "        intercept = model.intercept_[0]\n",
    "        if isinstance(hue_var, str):\n",
    "            hue_var = [hue_var]\n",
    "\n",
    "        # Make variable for x axis\n",
    "        features = [f for f in self.features if f not in hue_var]\n",
    "        x = self.X[features[0]] * 0\n",
    "        x_name = ''\n",
    "        if len(features) == 1:\n",
    "            x = self.X[features[0]]\n",
    "            x_name = self.feature_titles[features[0]]\n",
    "        else:\n",
    "            for f in features:\n",
    "                x += coefs[f] * self.X[f]\n",
    "                plus = ' +' if len(x_name) else ''\n",
    "                x_name += f'{plus}{coefs[f]:.2f} x {self.feature_titles[f]}'\n",
    "\n",
    "        # Define the model\n",
    "        def log_reg(x, h):\n",
    "            \"\"\"Return output of logistic regression function for a \n",
    "            given dictionary of variables/values (h) and a linear combination\n",
    "            of all other features (x).\"\"\"\n",
    "            S = intercept\n",
    "            for var, val in h.items():\n",
    "                S += coefs[var] * val\n",
    "            if len(features) == 1:\n",
    "                S += coefs[features[0]] * x\n",
    "            else:\n",
    "                S += x\n",
    "            return 1 / (1 + np.exp(-S))\n",
    "\n",
    "        # Plot NTCP curves for each hue value\n",
    "        x_plt = np.arange(x.min(), x.max(), 0.1)\n",
    "        colors = plt.rcParams['axes.prop_cycle'].by_key()['color']  \n",
    "        linestyle = ':' if dotted else '-'\n",
    "        \n",
    "        # Case with one variable, multiple values\n",
    "        if len(hue_var) == 1:\n",
    "            \n",
    "            # If no hue values are given, use all unique values\n",
    "            if hue_vals is None:\n",
    "                if len(hue_var) == 1:\n",
    "                    hue_vals = self.X[hue_var[0]].unique() \n",
    "                    \n",
    "            # Plot each\n",
    "            for i, h in enumerate(hue_vals):\n",
    "                label = f'{self.feature_titles[hue_var[0]]} = {h}'\n",
    "                if name_in_legend:\n",
    "                    label += f' ({m})'\n",
    "                ax.plot(x_plt, \n",
    "                        log_reg(x_plt, {hue_var[0]: h}), \n",
    "                        color=colors[i], \n",
    "                        linestyle=linestyle, \n",
    "                        label=label);\n",
    "        \n",
    "        # Case with multiple binary variables\n",
    "        else:\n",
    "            for i, hv in enumerate(hue_var):\n",
    "                label = self.feature_titles[hv]\n",
    "                h_vals = {h: (h == hv) for h in hue_var}\n",
    "                y_plt = log_reg(x_plt, h_vals)\n",
    "                ax.plot(x_plt, y_plt,\n",
    "                       color=colors[i],\n",
    "                       linestyle=linestyle,\n",
    "                       label=label)\n",
    "        \n",
    "        # Set x/y labels\n",
    "        ax.set_xlabel(x_name)\n",
    "        ax.set_ylabel('NTCP')\n",
    "\n",
    "        # Bin the data\n",
    "        bin_width = (x.max() - x.min()) / (nbins)\n",
    "        bin_centres = np.arange(x.min(), x.max(), bin_width) + bin_width / 2\n",
    "\n",
    "        # Get prevalence in each bin\n",
    "        hue_data = hue_data and len(hue_var) == 1  # Only allow data hues with single variable for now\n",
    "        X_subsets = {h: self.X[self.X[hue_var[0]] == h] for h in hue_vals} if hue_data \\\n",
    "            else {'all': self.X}\n",
    "        prevs = {}\n",
    "        prev_errs = {}\n",
    "        for i, (h, X_sub) in enumerate(X_subsets.items()):\n",
    "            prevs[h] = []\n",
    "            prev_errs[h] = []\n",
    "            for b in bin_centres:\n",
    "                prev, sigma = self.get_prev_in_bin(x[X_sub.index], b, bin_width)\n",
    "                prevs[h].append(prev)\n",
    "                prev_errs[h].append(sigma)\n",
    "            label = 'True prevalence' if h == 'all' else f'{self.feature_titles[hue_var[0]]} = {h}'\n",
    "            color = 'k' if h == 'all' else colors[i]\n",
    "            if data_in_legend:\n",
    "                ax.errorbar(bin_centres, prevs[h], yerr=prev_errs[h], \n",
    "                             fmt='o', color=color, label=label)\n",
    "            else:\n",
    "                ax.errorbar(bin_centres, prevs[h], yerr=prev_errs[h], \n",
    "                             fmt='o', color=color)\n",
    "\n",
    "        # Set title and legend\n",
    "        if legend:\n",
    "            ax.legend()\n",
    "        ax.set_title(title)\n",
    "     \n",
    "    def get_prev_in_bin(self, x, bin_centre, bin_width):\n",
    "        \"\"\"Get mean prevalence in a bin\"\"\"\n",
    "        x_in_bin = x[abs(x - bin_centre) <= bin_width / 2]\n",
    "        n = len(x_in_bin)\n",
    "        n_tox = self.y[x_in_bin.index].sum()\n",
    "        prev = n_tox / n\n",
    "        sigma = np.sqrt(prev * (1 - prev)/ n)\n",
    "        return prev, sigma\n",
    "        \n",
    "        "
   ]
  },
  {
   "cell_type": "markdown",
   "metadata": {},
   "source": [
    "## Beetz 2012 xerostomia\n",
    "https://www.thegreenjournal.com/article/S0167-8140(12)00117-X/fulltext"
   ]
  },
  {
   "cell_type": "code",
   "execution_count": 23,
   "metadata": {
    "scrolled": true
   },
   "outputs": [
    {
     "name": "stdout",
     "output_type": "stream",
     "text": [
      "[INFO] Dropping 6 entries with null baseline_EORTC_dry_mouth\n",
      "[INFO] Removing 19 entries with baseline_EORTC_dry_mouth in [3, 4]\n",
      "[INFO] Adding new column baseline_EORTC_dry_mouth_binary (baseline_EORTC_dry_mouth == 2)\n",
      "[INFO] Loaded dataset with 157 entries\n",
      "[INFO] The following tumour sites were classified as \"other\":\n",
      "       ['skin' 'salivary gland' 'maxilla' nan 'SCC' 'carotid body' 'parotid']\n",
      "[INFO]: Retraining logistic regression model\n",
      "\n",
      "[INFO] Model validation log saved to validation_results/beetz_2012/validation.log\n",
      "\n",
      "[INFO] Plotted logistic regression model\n"
     ]
    }
   ],
   "source": [
    "# Load data\n",
    "df = prepare_data(\n",
    "    months=6, \n",
    "    drop_null=['parotid_contralateral_planned', 'baseline_EORTC_dry_mouth'],\n",
    "    to_remove={'baseline_EORTC_dry_mouth': [3, 4]},\n",
    "    to_binarise={'baseline_EORTC_dry_mouth': {'baseline_EORTC_dry_mouth_binary': 2}}\n",
    ")\n",
    "df['cetuximab'] = (df['SACT'] & ~df['cisplatin'])\n",
    "demographics_table('Beetz 2012', df)\n",
    "\n",
    "# Validate model\n",
    "coefs = {\n",
    "    'parotid_contralateral_planned': 0.047,\n",
    "    'baseline_EORTC_dry_mouth_binary': 0.720\n",
    "}\n",
    "feature_titles = {\n",
    "        'parotid_contralateral_planned': 'Contralateral parotid mean dose (Gy)',\n",
    "        'baseline_EORTC_dry_mouth_binary': 'Baseline xerostomia'\n",
    "}\n",
    "intercept = -1.443\n",
    "lrv = LogisticRegressionValidator('beetz_2012', df, coefs, intercept, 'EORTC_dry_mouth',\n",
    "                                  feature_titles=feature_titles)\n",
    "\n",
    "# Plot the model\n",
    "lrv.plot_log_reg(hue_var='baseline_EORTC_dry_mouth_binary', hue_data=True, same_axis=True)\n",
    "\n",
    "# Run univariate analysis\n",
    "uni = {\n",
    "    'parotid_contralateral_planned': 'Contralateral parotid mean dose (Gy)',\n",
    "    'parotid_ipsilateral_planned': 'Ipsilateral parotid mean dose (Gy)',\n",
    "    'smg_contralateral_planned': 'Contralateral submandibular mean dose (Gy)',\n",
    "    'smg_ipsilateral_planned': 'Ipsilateral submandibular mean dose (Gy)',\n",
    "    'male': 'Sex',\n",
    "    'age': 'Age',\n",
    "    'cisplatin': 'Chemotherapy',\n",
    "    'cetuximab': 'Cetuximab',\n",
    "    'baseline_EORTC_dry_mouth_binary': 'Baseline xerostomia (none vs. a bit)',\n",
    "    'neck_bi': 'Bilateral neck irradiation'\n",
    "}\n",
    "lrv.univariate_analysis(uni)\n"
   ]
  },
  {
   "cell_type": "markdown",
   "metadata": {},
   "source": [
    "## External validation of original Beetz 2012 data"
   ]
  },
  {
   "cell_type": "code",
   "execution_count": 24,
   "metadata": {},
   "outputs": [
    {
     "name": "stdout",
     "output_type": "stream",
     "text": [
      "[INFO]: Retraining logistic regression model\n",
      "\n",
      "[INFO] Model validation log saved to validation_results/beetz_2012_original/validation.log\n",
      "\n",
      "[INFO] Plotted logistic regression model\n"
     ]
    }
   ],
   "source": [
    "# Load data\n",
    "df = pd.read_csv(\"../Beetz cross validation/Beetz_2012.csv\")\n",
    "df[\"xerostomia_baseline_binary\"] = df[\"Xerostomia_baseline\"] - 1\n",
    "\n",
    "# Validate model\n",
    "coefs = {\n",
    "    'PC_Dmean': 0.047,\n",
    "    'xerostomia_baseline_binary': 0.720\n",
    "}\n",
    "feature_titles = {\n",
    "        'PC_Dmean': 'Contralateral parotid mean dose (Gy)',\n",
    "        'xerostomia_baseline_binary': 'Baseline xerostomia'\n",
    "}\n",
    "intercept = -1.443\n",
    "lrv = LogisticRegressionValidator('beetz_2012_original', df, coefs, intercept, 'RESP_XER_M06',\n",
    "                                  feature_titles=feature_titles)\n",
    "\n",
    "# Plot the model\n",
    "lrv.plot_log_reg(hue_var='xerostomia_baseline_binary', hue_data=True, same_axis=True)"
   ]
  },
  {
   "cell_type": "markdown",
   "metadata": {},
   "source": [
    "## Lee 2014 xerostomia - all HNC\n",
    "https://journals.plos.org/plosone/article?id=10.1371/journal.pone.0089700\n",
    "### 3-month model"
   ]
  },
  {
   "cell_type": "code",
   "execution_count": 11,
   "metadata": {},
   "outputs": [
    {
     "name": "stdout",
     "output_type": "stream",
     "text": [
      "[INFO] Dropping 12 entries with null parotid_ipsilateral_planned\n",
      "[INFO] Dropping 5 entries with null baseline_EORTC_dry_mouth\n",
      "[INFO] Removing 15 entries with baseline_EORTC_dry_mouth in [3, 4]\n",
      "[INFO] Loaded dataset with 156 entries\n",
      "[INFO]: Retraining logistic regression model\n",
      "\n",
      "[INFO] Model validation log saved to validation_results/lee_2014_3month_combined/validation.log\n",
      "\n",
      "[INFO] Plotted logistic regression model\n"
     ]
    }
   ],
   "source": [
    "# Load data\n",
    "df = prepare_data(\n",
    "    months=3, \n",
    "    drop_null=['parotid_contralateral_planned', 'parotid_ipsilateral_planned', \n",
    "               'baseline_EORTC_dry_mouth', 'age'],\n",
    "    to_remove={'baseline_EORTC_dry_mouth': [3, 4]}\n",
    ")\n",
    "\n",
    "# Validate model\n",
    "coefs = {\n",
    "    'parotid_contralateral_planned': 0.097,\n",
    "    'parotid_ipsilateral_planned': 0.101,\n",
    "    'age': 0.285}\n",
    "intercept = -21.298\n",
    "feature_titles = {\n",
    "        'parotid_contralateral_planned': 'Contralateral parotid mean dose (Gy)',\n",
    "        'parotid_ipsilateral_planned': 'Ipsilateral parotid mean dose (Gy)',\n",
    "        'age': 'Age'\n",
    "}\n",
    "lrv = LogisticRegressionValidator(\n",
    "    'lee_2014_3month_combined', df, coefs, intercept, 'EORTC_dry_mouth',\n",
    "    feature_titles=feature_titles)\n",
    "\n",
    "# Plot the model\n",
    "lrv.plot_log_reg(\n",
    "    hue_var='age', hue_vals=[40, 50, 60, 70], hue_data=False, same_axis=False)\n",
    "\n",
    "\n"
   ]
  },
  {
   "cell_type": "markdown",
   "metadata": {},
   "source": [
    "## Lee 2014 xerostomia\n",
    "https://www.nature.com/articles/srep06217\n",
    "### 3-month model"
   ]
  },
  {
   "cell_type": "code",
   "execution_count": 228,
   "metadata": {},
   "outputs": [
    {
     "name": "stdout",
     "output_type": "stream",
     "text": [
      "[INFO] Dropping 12 entries with null parotid_ipsilateral_planned\n",
      "[INFO] Dropping 5 entries with null baseline_EORTC_dry_mouth\n",
      "[INFO] Removing 15 entries with baseline_EORTC_dry_mouth in [3, 4]\n",
      "[INFO] Loaded dataset with 156 entries\n",
      "[INFO] The following tumour sites were classified as \"other\":\n",
      "       ['maxilla' 'skin' 'nasopharynx' 'carotid body' 'salivary gland' nan 'SCC'\n",
      " 'parotid']\n",
      "[INFO]: Retraining logistic regression model\n",
      "\n",
      "[INFO] Model validation log saved to validation_results/lee_2014_3month/validation.log\n",
      "\n",
      "[INFO] Plotted logistic regression model\n"
     ]
    }
   ],
   "source": [
    "# Load data\n",
    "df = prepare_data(\n",
    "    months=3, \n",
    "    drop_null=['parotid_contralateral_planned', 'parotid_ipsilateral_planned', \n",
    "               'baseline_EORTC_dry_mouth', 'age'],\n",
    "    to_remove={'baseline_EORTC_dry_mouth': [3, 4]}\n",
    ")\n",
    "demographics_table('Lee 2014', df)\n",
    "\n",
    "# Validate model\n",
    "coefs = {\n",
    "    'parotid_contralateral_planned': 0.637,\n",
    "    'parotid_ipsilateral_planned': 0.185,\n",
    "    'age': 0.202}\n",
    "intercept = -32.296\n",
    "feature_titles = {\n",
    "        'parotid_contralateral_planned': 'Contralateral parotid mean dose (Gy)',\n",
    "        'parotid_ipsilateral_planned': 'Ipsilateral parotid mean dose (Gy)',\n",
    "        'age': 'Age'\n",
    "}\n",
    "lrv = LogisticRegressionValidator(\n",
    "    'lee_2014_3month', df, coefs, intercept, 'EORTC_dry_mouth',\n",
    "    feature_titles=feature_titles)\n",
    "\n",
    "# Plot the model\n",
    "lrv.plot_log_reg(\n",
    "    hue_var='age', hue_vals=[40, 50, 60, 70], hue_data=False, same_axis=False)\n",
    "\n",
    "\n"
   ]
  },
  {
   "cell_type": "markdown",
   "metadata": {},
   "source": [
    "### 3-month model, surgery only, no NPC"
   ]
  },
  {
   "cell_type": "code",
   "execution_count": 238,
   "metadata": {},
   "outputs": [
    {
     "name": "stdout",
     "output_type": "stream",
     "text": [
      "[INFO] Dropping 12 entries with null parotid_ipsilateral_planned\n",
      "[INFO] Dropping 5 entries with null baseline_EORTC_dry_mouth\n",
      "[INFO] Removing 15 entries with baseline_EORTC_dry_mouth in [3, 4]\n",
      "[INFO] Removing 5 entries with primary site in ['nasopharynx']\n",
      "[INFO] Removing 64 entries with primary_surgery in [0]\n",
      "[INFO] Loaded dataset with 87 entries\n",
      "[INFO]: Retraining logistic regression model\n",
      "\n",
      "[INFO] Model validation log saved to validation_results/lee_2014_3month_surgery/validation.log\n",
      "\n",
      "[INFO] Plotted logistic regression model\n"
     ]
    }
   ],
   "source": [
    "# Load data\n",
    "df = prepare_data(\n",
    "    months=3, \n",
    "    drop_null=['parotid_contralateral_planned', 'parotid_ipsilateral_planned', \n",
    "               'baseline_EORTC_dry_mouth', 'age'],\n",
    "    to_remove={'baseline_EORTC_dry_mouth': [3, 4], \n",
    "               'primary site': ['nasopharynx'], \n",
    "               'primary_surgery': [0]}\n",
    ")\n",
    "\n",
    "# Validate model\n",
    "coefs = {\n",
    "    'parotid_contralateral_planned': 0.637,\n",
    "    'parotid_ipsilateral_planned': 0.185,\n",
    "    'age': 0.202}\n",
    "intercept = -32.296\n",
    "feature_titles = {\n",
    "        'parotid_contralateral_planned': 'Contralateral parotid mean dose (Gy)',\n",
    "        'parotid_ipsilateral_planned': 'Ipsilateral parotid mean dose (Gy)',\n",
    "        'age': 'Age'\n",
    "}\n",
    "lrv = LogisticRegressionValidator(\n",
    "    'lee_2014_3month_surgery', df, coefs, intercept, 'EORTC_dry_mouth',\n",
    "    feature_titles=feature_titles)\n",
    "\n",
    "# Plot the model\n",
    "lrv.plot_log_reg(\n",
    "    hue_var='age', hue_vals=[40, 50, 60, 70], hue_data=False, same_axis=False)\n",
    "\n"
   ]
  },
  {
   "cell_type": "markdown",
   "metadata": {},
   "source": [
    "### 12-month model"
   ]
  },
  {
   "cell_type": "code",
   "execution_count": 120,
   "metadata": {},
   "outputs": [
    {
     "name": "stdout",
     "output_type": "stream",
     "text": [
      "[INFO] Dropping 12 entries with null parotid_ipsilateral_planned\n",
      "[INFO] Dropping 9 entries with null baseline_EORTC_dry_mouth\n",
      "[INFO] Removing 12 entries with baseline_EORTC_dry_mouth in [3, 4]\n",
      "[INFO] Removing 15 entries with T_stage in [0]\n",
      "[INFO] Adding new column T1 (T_stage == 1)\n",
      "[INFO] Adding new column T2 (T_stage == 2)\n",
      "[INFO] Adding new column T3 (T_stage == 3)\n",
      "[INFO] Adding new column T4 (T_stage == 4)\n",
      "[INFO] Loaded dataset with 134 entries\n",
      "[INFO]: Retraining logistic regression model\n",
      "\n",
      "[INFO] Model validation log saved to validation_results/lee_2014_12month/validation.log\n",
      "\n",
      "[INFO] Plotted logistic regression model\n"
     ]
    }
   ],
   "source": [
    "# Load data\n",
    "df = prepare_data(\n",
    "    months=12, \n",
    "    drop_null=['parotid_contralateral_planned', 'parotid_ipsilateral_planned', 'baseline_EORTC_dry_mouth', 'T_stage'],\n",
    "    to_remove={'baseline_EORTC_dry_mouth': [3, 4], 'T_stage': 0},\n",
    "    to_binarise={'T_stage': {f'T{i}': i for i in range(1, 5)}}\n",
    ")\n",
    "\n",
    "# Model parameters\n",
    "coefs = {\n",
    "    'parotid_contralateral_planned': 1.400,\n",
    "    'parotid_ipsilateral_planned': 0.358,\n",
    "    'T1': 0.622,\n",
    "    'T2': -1.136,\n",
    "    'T3': -19.544,\n",
    "    'T4': 0\n",
    "}\n",
    "intercept = -44.877\n",
    "\n",
    "# Perform validation\n",
    "name = 'lee_2014_12month'\n",
    "feature_titles = {\n",
    "        'parotid_contralateral_planned': 'Contralateral parotid mean dose (Gy)',\n",
    "        'parotid_ipsilateral_planned': 'Ipsilateral parotid mean dose (Gy)',\n",
    "}\n",
    "lrv = LogisticRegressionValidator(\n",
    "    'lee_2014_12month', df, coefs, intercept, 'EORTC_dry_mouth',\n",
    "    feature_titles=feature_titles)\n",
    "\n",
    "# Plot model\n",
    "lrv.plot_log_reg(\n",
    "    hue_var=['T1', 'T2', 'T3', 'T4'],\n",
    "    hue_data=False, same_axis=False)\n"
   ]
  },
  {
   "cell_type": "markdown",
   "metadata": {},
   "source": [
    "### Wopken 2014 dysphagia\n",
    "https://pubmed.ncbi.nlm.nih.gov/25443500/"
   ]
  },
  {
   "cell_type": "code",
   "execution_count": 24,
   "metadata": {},
   "outputs": [
    {
     "name": "stdout",
     "output_type": "stream",
     "text": [
      "[INFO] Removing 0 entries with baseline_CTCAE_dysphagia in [3, 4]\n",
      "[INFO] Adding new column weight_loss_moderate (1 < weight_loss_pct < 10])\n",
      "[INFO] Adding new column weight_loss_high (10 < weight_loss_pct < 100000])\n",
      "[INFO] Loaded dataset with 6 entries\n"
     ]
    },
    {
     "name": "stderr",
     "output_type": "stream",
     "text": [
      "<ipython-input-4-57224ea7d6c3>:128: RuntimeWarning: divide by zero encountered in double_scalars\n",
      "  self.metrics[m]['brier_score_scaled'] = self.metrics[m]['brier_score'] / self.brier_max\n",
      "/Users/hannahpullen/miniconda3/lib/python3.8/site-packages/sklearn/metrics/_classification.py:1221: UndefinedMetricWarning: Recall and F-score are ill-defined and being set to 0.0 in labels with no true samples. Use `zero_division` parameter to control this behavior.\n",
      "  _warn_prf(average, modifier, msg_start, len(result))\n",
      "<ipython-input-4-57224ea7d6c3>:263: RuntimeWarning: Mean of empty slice.\n",
      "  self.file.write(f'Mean probability for entries without toxicity: '\n",
      "/Users/hannahpullen/miniconda3/lib/python3.8/site-packages/numpy/core/_methods.py:170: RuntimeWarning: invalid value encountered in double_scalars\n",
      "  ret = ret.dtype.type(ret / rcount)\n"
     ]
    },
    {
     "name": "stdout",
     "output_type": "stream",
     "text": [
      "\n",
      "[INFO] Model validation log saved to validation_results/wopken_2014/validation.log\n"
     ]
    }
   ],
   "source": [
    "# Load dose data from new contours\n",
    "ipc_and_crico = pd.read_csv('../HeadAndNeck/doses.csv')\n",
    "\n",
    "# Load other data\n",
    "df = prepare_data(\n",
    "    months=6, \n",
    "    patients=list(ipc_and_crico['patient']),\n",
    "    drop_null=['parotid_contralateral_planned', 'T_high', 'SACT', 'cisplatin', 'weight_loss_pct'],\n",
    "    to_remove={'baseline_CTCAE_dysphagia': [3, 4]},\n",
    "    to_binarise_range={'weight_loss_pct': {'weight_loss_moderate': (1, 10), \n",
    "                                           'weight_loss_high': (10, 100000)}}\n",
    ")\n",
    "\n",
    "# Fill extra columns\n",
    "df['cetuximab'] = (df['SACT'] & ~df['cisplatin'])\n",
    "df['tube'] = (df['peg_tube'] | df['ng_tube'])\n",
    "df['acc_RT'] = np.ones(len(df))\n",
    "df = pd.merge(df, ipc_and_crico, on='patient')\n",
    "\n",
    "\n",
    "# Validate model\n",
    "coefs = {\n",
    "    'T_high': 0.43,\n",
    "    'weight_loss_moderate': 0.95,\n",
    "    'weight_loss_high': 1.63, \n",
    "    'cetuximab': 0.56,\n",
    "    'acc_RT': 1.20,\n",
    "    'cisplatin': 1.91,\n",
    "    'spc_planned': 0.071,\n",
    "    'ipc_planned': 0.034,\n",
    "    'parotid_contralateral_planned': 0.006,\n",
    "    'cricopharyngeus_planned': 0.023\n",
    "}\n",
    "feature_titles = {\n",
    "    'parotid_contralateral_planned': 'Contralateral parotid mean dose (Gy)',\n",
    "    'spc_planned': 'PCM superior mean dose (Gy)',\n",
    "    'ipc_planned': 'PCM inferior mean dose (Gy)',\n",
    "    'cricopharyngeus_planned': 'Cricopharyngeal muscle mean dose (Gy)',\n",
    "    'cisplatin': 'Chemoradiation',\n",
    "    'cetuximab': 'RT + cetuximab',\n",
    "    'acc_RT': 'Accelerated fractionation',\n",
    "    'T_high': 'T3-T4',\n",
    "    'weight_loss_moderate': 'Moderate weight loss (1-10%)',\n",
    "    'weight_loss_high': 'Severe weight loss (>10%)', \n",
    "}\n",
    "intercept = -11.7\n",
    "lrv = LogisticRegressionValidator('wopken_2014', df, coefs, intercept, 'tube',\n",
    "                                  feature_titles=feature_titles, retrain=False)\n",
    "\n"
   ]
  },
  {
   "cell_type": "code",
   "execution_count": 25,
   "metadata": {},
   "outputs": [
    {
     "name": "stdout",
     "output_type": "stream",
     "text": [
      "[0.25036538 0.10071657 0.55037565 0.02135055 0.5250446  0.5964014 ]\n",
      "[0 0 1 0 1 1]\n"
     ]
    }
   ],
   "source": [
    "# Check model predictions for the 6 patients\n",
    "print(lrv.models['original'].predict_proba(df[coefs])[:, 1])\n",
    "print(lrv.models['original'].predict(df[coefs]))"
   ]
  },
  {
   "cell_type": "code",
   "execution_count": 21,
   "metadata": {},
   "outputs": [
    {
     "data": {
      "image/png": "[encoded data removed]",
      "text/plain": [
       "<Figure size 1101.6x720 with 8 Axes>"
      ]
     },
     "metadata": {
      "needs_background": "light"
     },
     "output_type": "display_data"
    }
   ],
   "source": [
    "# Try increasing IPC and cricopharyngeal doses\n",
    "model = lrv.models['original']\n",
    "factors = np.arange(1, 4, 0.1)\n",
    "probs = {p: np.zeros((len(factors), len(factors))) for p in df['patient']}\n",
    "for i, f_i in enumerate(factors):\n",
    "    for j, f_j in enumerate(factors):\n",
    "        df_new = df[coefs].copy()\n",
    "        df_new['ipc_planned'] *= f_i\n",
    "        df_new['cricopharyngeus_planned'] *= f_j\n",
    "        current_probs = model.predict_proba(df_new)[:, 1]\n",
    "        for k, p in enumerate(probs):\n",
    "            probs[p][i][j] = current_probs[k]\n",
    "\n",
    "# Plot results\n",
    "xplot, yplot = np.meshgrid(factors, factors)\n",
    "fig, ax = plt.subplots(2, 4, figsize=(15.3, 10), gridspec_kw={\"width_ratios\": [1, 1, 1, 0.06]})\n",
    "axlist = list(ax[0, :3]) + list(ax[1, :3])\n",
    "for i, (p, prob) in enumerate(probs.items()):\n",
    "    mesh = axlist[i].pcolormesh(xplot, yplot, prob, shading='auto',\n",
    "                         vmin=0, vmax=1, cmap='seismic')\n",
    "    axlist[i].set_aspect('equal')\n",
    "    axlist[i].set_title(p)\n",
    "    axlist[i].set_xlabel(\"Cricopharyngeus dose factor\")\n",
    "    axlist[i].set_ylabel(\"IPC dose factor\")\n",
    "    \n",
    "fig.colorbar(mesh, ax[0, 3])\n",
    "fig.colorbar(mesh, ax[1, 3])\n",
    "plt.tight_layout()\n",
    "plt.savefig('../HeadAndNeck/plots/dose_increase_check.pdf')\n",
    "                         "
   ]
  },
  {
   "cell_type": "markdown",
   "metadata": {},
   "source": [
    "### Christianen 2012 dysphagia\n",
    "https://www.thegreenjournal.com/article/S0167-8140(11)00459-2/fulltext"
   ]
  },
  {
   "cell_type": "code",
   "execution_count": 11,
   "metadata": {},
   "outputs": [
    {
     "name": "stdout",
     "output_type": "stream",
     "text": [
      "[INFO] Dropping 3 entries with null sg_larynx_planned\n",
      "[INFO] Dropping 6 entries with null baseline_CTCAE_dysphagia\n",
      "[INFO] Loaded dataset with 173 entries\n"
     ]
    }
   ],
   "source": [
    "# Test Christianen dysphagia 2012\n",
    "# Load 6-month data\n",
    "df = prepare_data(\n",
    "    months=6, \n",
    "    drop_null=['spc_planned', 'sg_larynx_planned', 'baseline_CTCAE_dysphagia'],\n",
    "    to_remove={'baseline_CTCAE_dysphagia': [3, 4]}\n",
    ")\n",
    "\n",
    "# # Get features and outcomes\n",
    "# X = df[['spc_planned', 'sg_larynx_planned']]\n",
    "# y = df['CTCAE_dysphagia']\n",
    "\n",
    "# # Make model\n",
    "# from sklearn.linear_model import LogisticRegression\n",
    "# model = LogisticRegression()\n",
    "# model.fit(X, y)\n",
    "# model.coef_\n",
    "# model.coef_ = np.array([[0.057, 0.037]])\n",
    "# model.intercept_ = np.array([-6.09])\n",
    "\n",
    "# # Validate\n",
    "# validate_model(model, X, y, name=\"Christianen 2012\");"
   ]
  },
  {
   "cell_type": "code",
   "execution_count": 14,
   "metadata": {},
   "outputs": [
    {
     "data": {
      "text/plain": [
       "0    173\n",
       "Name: CTCAE_oropharyngeal_pain, dtype: int64"
      ]
     },
     "execution_count": 14,
     "metadata": {},
     "output_type": "execute_result"
    }
   ],
   "source": [
    "df['CTCAE_oropharyngeal_pain'].value_counts()"
   ]
  },
  {
   "cell_type": "markdown",
   "metadata": {},
   "source": [
    "### Synthetic data investigation"
   ]
  },
  {
   "cell_type": "code",
   "execution_count": 254,
   "metadata": {},
   "outputs": [
    {
     "data": {
      "text/html": [
       "<div>\n",
       "<style scoped>\n",
       "    .dataframe tbody tr th:only-of-type {\n",
       "        vertical-align: middle;\n",
       "    }\n",
       "\n",
       "    .dataframe tbody tr th {\n",
       "        vertical-align: top;\n",
       "    }\n",
       "\n",
       "    .dataframe thead th {\n",
       "        text-align: right;\n",
       "    }\n",
       "</style>\n",
       "<table border=\"1\" class=\"dataframe\">\n",
       "  <thead>\n",
       "    <tr style=\"text-align: right;\">\n",
       "      <th></th>\n",
       "      <th>parotid_contralateral_planned</th>\n",
       "      <th>baseline_EORTC_dry_mouth_binary</th>\n",
       "    </tr>\n",
       "  </thead>\n",
       "  <tbody>\n",
       "    <tr>\n",
       "      <th>0</th>\n",
       "      <td>42.684885</td>\n",
       "      <td>0.0</td>\n",
       "    </tr>\n",
       "    <tr>\n",
       "      <th>1</th>\n",
       "      <td>37.935499</td>\n",
       "      <td>0.0</td>\n",
       "    </tr>\n",
       "    <tr>\n",
       "      <th>2</th>\n",
       "      <td>33.208585</td>\n",
       "      <td>0.0</td>\n",
       "    </tr>\n",
       "    <tr>\n",
       "      <th>3</th>\n",
       "      <td>30.443220</td>\n",
       "      <td>0.0</td>\n",
       "    </tr>\n",
       "    <tr>\n",
       "      <th>4</th>\n",
       "      <td>12.831539</td>\n",
       "      <td>0.0</td>\n",
       "    </tr>\n",
       "  </tbody>\n",
       "</table>\n",
       "</div>"
      ],
      "text/plain": [
       "   parotid_contralateral_planned  baseline_EORTC_dry_mouth_binary\n",
       "0                      42.684885                              0.0\n",
       "1                      37.935499                              0.0\n",
       "2                      33.208585                              0.0\n",
       "3                      30.443220                              0.0\n",
       "4                      12.831539                              0.0"
      ]
     },
     "execution_count": 254,
     "metadata": {},
     "output_type": "execute_result"
    }
   ],
   "source": [
    "# Generate a dataset\n",
    "def generate_data_2d(cont_data, cat_data, n_points=None):    \n",
    "    \n",
    "    # Check inputs\n",
    "    if len(cont_data) != len(cat_data):\n",
    "        print(f'[ERROR]: length of continuous data ({len(cont_data)})'\n",
    "              f' must be same as length of categorical data ({len(cat_data)})')\n",
    "    if not n_points:\n",
    "        n_points = len(cont_data)\n",
    "    \n",
    "    # Split continuous data according to categorical data\n",
    "    cats = cat_data.unique()\n",
    "    cont_cats = {}\n",
    "    for c in cats:\n",
    "        cont_cats[c] = cont_data[cat_data == c]\n",
    "        \n",
    "    # Loop through n_points and generate data\n",
    "    syn_cats = []\n",
    "    syn_conts = []\n",
    "    for n in range(n_points):\n",
    "        \n",
    "        # Generate category\n",
    "        def get_random_cat():\n",
    "            rand1 = np.random.rand()\n",
    "            return cat_data.quantile(rand1)\n",
    "        syn_cat = get_random_cat()\n",
    "        while syn_cat not in cats:\n",
    "            syn_cat = get_random_cat()\n",
    "        syn_cats.append(syn_cat)\n",
    "        \n",
    "        # Generate continous variable according to distribution within the category\n",
    "        rand2 = np.random.rand()\n",
    "        syn_cont = cont_cats[syn_cat].quantile(rand2)\n",
    "        syn_conts.append(syn_cont)\n",
    "        \n",
    "    # Create pandas dataframe\n",
    "    return pd.DataFrame([syn_conts, syn_cats], index=[cont_data.name, cat_data.name]).T\n",
    "\n",
    "syn_data_big = generate_data_2d(df['parotid_contralateral_planned'], df['baseline_EORTC_dry_mouth_binary'], 10000)\n",
    "syn_data = generate_data_2d(df['parotid_contralateral_planned'], df['baseline_EORTC_dry_mouth_binary'])\n",
    "syn_data.head()\n",
    "    "
   ]
  },
  {
   "cell_type": "code",
   "execution_count": 255,
   "metadata": {
    "scrolled": false
   },
   "outputs": [
    {
     "name": "stdout",
     "output_type": "stream",
     "text": [
      "Synthetic data:\n"
     ]
    },
    {
     "data": {
      "text/plain": [
       "0.0    0.6906\n",
       "1.0    0.3094\n",
       "Name: baseline_EORTC_dry_mouth_binary, dtype: float64"
      ]
     },
     "metadata": {},
     "output_type": "display_data"
    },
    {
     "name": "stdout",
     "output_type": "stream",
     "text": [
      "Real data:\n"
     ]
    },
    {
     "data": {
      "text/plain": [
       "0    0.687898\n",
       "1    0.312102\n",
       "Name: baseline_EORTC_dry_mouth_binary, dtype: float64"
      ]
     },
     "metadata": {},
     "output_type": "display_data"
    },
    {
     "name": "stdout",
     "output_type": "stream",
     "text": [
      "Mean dose (synthetic data): 25.522438503896804\n",
      "Mean dose (real data): 25.317767490113987\n"
     ]
    },
    {
     "data": {
      "image/png": "[encoded data removed]",
      "text/plain": [
       "<Figure size 432x288 with 1 Axes>"
      ]
     },
     "metadata": {
      "needs_background": "light"
     },
     "output_type": "display_data"
    },
    {
     "data": {
      "image/png": "[encoded data removed]",
      "text/plain": [
       "<Figure size 432x288 with 1 Axes>"
      ]
     },
     "metadata": {
      "needs_background": "light"
     },
     "output_type": "display_data"
    },
    {
     "data": {
      "image/png": "[encoded data removed]",
      "text/plain": [
       "<Figure size 432x288 with 1 Axes>"
      ]
     },
     "metadata": {
      "needs_background": "light"
     },
     "output_type": "display_data"
    },
    {
     "data": {
      "image/png": "[encoded data removed]",
      "text/plain": [
       "<Figure size 432x288 with 1 Axes>"
      ]
     },
     "metadata": {
      "needs_background": "light"
     },
     "output_type": "display_data"
    }
   ],
   "source": [
    "# Check it worked!\n",
    "# Baseline distribution\n",
    "print('Synthetic data:')\n",
    "display(syn_data_big['baseline_EORTC_dry_mouth_binary'].value_counts() / len(syn_data_big))\n",
    "print('Real data:')\n",
    "display(df['baseline_EORTC_dry_mouth_binary'].value_counts() / len(df))\n",
    "\n",
    "# Dose distribution\n",
    "print('Mean dose (synthetic data):', syn_data_big['parotid_contralateral_planned'].mean())\n",
    "print('Mean dose (real data):', df['parotid_contralateral_planned'].mean())\n",
    "\n",
    "# Plot histograms for real/synthetic datasets\n",
    "def comparison_hists(real_df, syn_df, col, title=''):\n",
    "    norm = len(real_df) / len(syn_df)\n",
    "    plt.figure()\n",
    "    syn_df[col].hist(alpha=0.3, label='Synthetic data', \n",
    "                     weights=np.full([len(syn_df)], norm))\n",
    "    real_df[col].hist(alpha=0.3, label='Real data')\n",
    "    plt.legend()\n",
    "    if not title:\n",
    "        title = col\n",
    "    plt.title(title)\n",
    "    \n",
    "comparison_hists(df, syn_data_big, 'baseline_EORTC_dry_mouth_binary')\n",
    "comparison_hists(df, syn_data_big, 'parotid_contralateral_planned')\n",
    "comparison_hists(df[df['baseline_EORTC_dry_mouth_binary'] == 0], \n",
    "                 syn_data_big[syn_data_big['baseline_EORTC_dry_mouth_binary'] == 0], \n",
    "                 'parotid_contralateral_planned',\n",
    "                 title='parotid_contralateral_planned (baseline = 0)')\n",
    "comparison_hists(df[df['baseline_EORTC_dry_mouth_binary'] == 1], \n",
    "                 syn_data_big[syn_data_big['baseline_EORTC_dry_mouth_binary'] == 1], \n",
    "                 'parotid_contralateral_planned',\n",
    "                 title='parotid_contralateral_planned (baseline = 1)')\n",
    "\n"
   ]
  },
  {
   "cell_type": "code",
   "execution_count": 260,
   "metadata": {},
   "outputs": [],
   "source": [
    "# Smear the data\n",
    "def smear_data(data, std, var):\n",
    "    data_smeared = data.copy()\n",
    "    smear = np.array([np.random.normal(scale=std) for n in range(len(data))])\n",
    "    data_smeared[var] = data_smeared[var] + smear\n",
    "    return data_smeared\n",
    "\n",
    "# Smear binary data\n",
    "def smear_data_binary(data, std, var=None):\n",
    "    smear = np.array([np.random.normal(scale=std) for n in range(len(data))])\n",
    "    def binarise_vals(v):\n",
    "        return 0 if v < 0.5 else 1\n",
    "    if isinstance(data, pd.Series):\n",
    "        smeared_vals = data + smear\n",
    "        return smeared_vals.apply(binarise_vals)\n",
    "    else:\n",
    "        data_smeared = data.copy()\n",
    "        smeared_vals = data[var] + smear\n",
    "        data_smeared[var] = smeared_vals.apply(binarise_vals)\n",
    "        return data_smeared\n",
    "\n",
    "# Get mean Brier score for a given standard deviation\n",
    "def get_mean_brier(data, std, model, var=None, n_reps=50):\n",
    "    \n",
    "    # Get \"true\" outcomes\n",
    "    y_true_init = pd.Series(model.predict(data))\n",
    "    \n",
    "    # Check whether variable is binary\n",
    "    smear_outcome = var == None\n",
    "    is_binary = False\n",
    "    if not smear_outcome:\n",
    "        is_binary = len(data[var].unique()) == 2\n",
    "    \n",
    "    # Get Brier scores n times\n",
    "    scores = []\n",
    "    for n in range(n_reps):\n",
    "        \n",
    "        # Smear input data if needed\n",
    "        smeared_data = data\n",
    "        if not smear_outcome:\n",
    "            smearing_func = smear_data_binary if is_binary else smear_data\n",
    "            smeared_data = smearing_func(data, std, var)\n",
    "            \n",
    "        # Predict outcomes\n",
    "        y_prob = model.predict_proba(smeared_data)[:, 1]\n",
    "        \n",
    "        # Smear \"true\" outcomes if needed\n",
    "        y_true = y_true_init if not smear_outcome else smear_data_binary(y_true_init, std)\n",
    "        \n",
    "        # Predict Brier score\n",
    "        scores.append(brier_score_loss(y_true, y_prob))\n",
    "        \n",
    "    return np.mean(scores), np.std(scores)\n",
    "\n",
    "# Plot Brier scores for a range of uncertainties \n",
    "def plot_brier_vs_std(data, stds, model, var=None, fit=False, ref=None):\n",
    "    \n",
    "    # Get mean Brier score at each standard deviation\n",
    "    scores = []\n",
    "    score_stds = []\n",
    "    for std in stds:\n",
    "        score, score_std = get_mean_brier(data, std, model, var=var)\n",
    "        scores.append(score)\n",
    "        score_stds.append(score_std)\n",
    "    \n",
    "    # Plot results\n",
    "    plt.figure()\n",
    "    plt.plot(stds, scores, color='k')\n",
    "    plt.errorbar(stds, scores, yerr=score_stds, color='k', label='Data')\n",
    "    plt.xlabel(f'Standard deviation of {var}')\n",
    "    if var == None:\n",
    "        plt.xlabel(f'Standard deviation of outcome')\n",
    "    plt.ylabel('Brier score')\n",
    "    make_leg = False\n",
    "    \n",
    "    # Try fitting with parabola\n",
    "    p = None\n",
    "    if fit:\n",
    "        p = np.polyfit(stds, scores, 2)\n",
    "        x = np.arange(stds.min(), stds.max(), (stds.max() - stds.min()) / 1000)\n",
    "        y = p[2] + p[1] * x + p[0] * x**2\n",
    "        print('Parabola fit coefficients:', p)\n",
    "        plt.plot(x, y, color='r', label='Fit with parabola')\n",
    "        make_leg = True\n",
    "        \n",
    "    # Draw on reference Brier score\n",
    "    if ref is not None:\n",
    "        plt.plot([stds.min(), stds.max()], [ref, ref], 'g--', \n",
    "                 label=f'Brier score = {ref}', )\n",
    "        make_leg = True\n",
    "        \n",
    "        # Get value of std at reference score\n",
    "        if fit:\n",
    "            a = p[0]\n",
    "            b = p[1]\n",
    "            c = p[2] - ref\n",
    "            roots = [(-b + s * np.sqrt(b**2 - 4 * a * c)) / (2 * a) for s in [-1, 1]]\n",
    "            root = np.max(roots)\n",
    "            print(f'std. dev. at Brier score = {ref}: {root:.1f}')\n",
    "    \n",
    "    if make_leg:\n",
    "        plt.legend()\n",
    "\n",
    "    plt.savefig(f'figs/{var}.pdf')"
   ]
  },
  {
   "cell_type": "code",
   "execution_count": 261,
   "metadata": {},
   "outputs": [
    {
     "name": "stdout",
     "output_type": "stream",
     "text": [
      "Parabola fit coefficients: [8.16741590e-05 7.15157241e-04 1.56506233e-01]\n",
      "std. dev. at Brier score = 0.223: 24.5\n",
      "Parabola fit coefficients: [-0.00742304  0.02659084  0.15487616]\n",
      "std. dev. at Brier score = 0.223: nan\n"
     ]
    },
    {
     "name": "stderr",
     "output_type": "stream",
     "text": [
      "<ipython-input-260-83685a5ac7aa>:97: RuntimeWarning: invalid value encountered in sqrt\n",
      "  roots = [(-b + s * np.sqrt(b**2 - 4 * a * c)) / (2 * a) for s in [-1, 1]]\n"
     ]
    },
    {
     "name": "stdout",
     "output_type": "stream",
     "text": [
      "Parabola fit coefficients: [-0.03228243  0.11429304  0.14501306]\n",
      "std. dev. at Brier score = 0.223: 2.6\n"
     ]
    },
    {
     "data": {
      "image/png": "[encoded data removed]",
      "text/plain": [
       "<Figure size 432x288 with 1 Axes>"
      ]
     },
     "metadata": {
      "needs_background": "light"
     },
     "output_type": "display_data"
    },
    {
     "data": {
      "image/png": "[encoded data removed]",
      "text/plain": [
       "<Figure size 432x288 with 1 Axes>"
      ]
     },
     "metadata": {
      "needs_background": "light"
     },
     "output_type": "display_data"
    },
    {
     "data": {
      "image/png": "[encoded data removed]",
      "text/plain": [
       "<Figure size 432x288 with 1 Axes>"
      ]
     },
     "metadata": {
      "needs_background": "light"
     },
     "output_type": "display_data"
    },
    {
     "data": {
      "image/png": "[encoded data removed]",
      "text/plain": [
       "<Figure size 432x288 with 1 Axes>"
      ]
     },
     "metadata": {
      "needs_background": "light"
     },
     "output_type": "display_data"
    }
   ],
   "source": [
    "# Check the smearing worked\n",
    "std = 2\n",
    "pcp = 'parotid_contralateral_planned'\n",
    "syn_data_smeared = smear_data(syn_data_big, std, pcp)\n",
    "(syn_data_smeared[pcp] - syn_data_big[pcp]).hist()\n",
    "plt.xlabel('Smeared dose - true dose')\n",
    "plt.ylabel('Number of entries')\n",
    "\n",
    "# Test range of uncertainties\n",
    "stds = np.arange(0, 20, 0.5)\n",
    "ref_score = 0.223\n",
    "model = lrv.models['original']\n",
    "plot_brier_vs_std(syn_data, stds, model, var=pcp, fit=True, ref=ref_score)\n",
    "\n",
    "# Smear baseline score\n",
    "stds = np.arange(0, 2, 0.05)\n",
    "plot_brier_vs_std(syn_data, stds, model, var='baseline_EORTC_dry_mouth_binary', fit=True, ref=ref_score)\n",
    "\n",
    "# Smear outcome\n",
    "plot_brier_vs_std(syn_data, stds, model, fit=True, ref=ref_score)\n"
   ]
  },
  {
   "cell_type": "code",
   "execution_count": 603,
   "metadata": {
    "collapsed": true,
    "jupyter": {
     "outputs_hidden": true
    }
   },
   "outputs": [
    {
     "name": "stdout",
     "output_type": "stream",
     "text": [
      "Parabola fit coefficients: [9.52045196e-05 5.38676861e-04 1.49683440e-01]\n",
      "std. dev. at Brier score = 0.223: 25.1\n",
      "Parabola fit coefficients: [-0.00706427  0.02571953  0.14780728]\n",
      "std. dev. at Brier score = 0.223: nan\n"
     ]
    },
    {
     "name": "stderr",
     "output_type": "stream",
     "text": [
      "<ipython-input-601-51736303635b>:95: RuntimeWarning: invalid value encountered in sqrt\n",
      "  roots = [(-b + s * np.sqrt(b**2 - 4 * a * c)) / (2 * a) for s in [-1, 1]]\n"
     ]
    },
    {
     "name": "stdout",
     "output_type": "stream",
     "text": [
      "Parabola fit coefficients: [-0.03284048  0.1193598   0.13776861]\n",
      "std. dev. at Brier score = 0.223: 2.7\n"
     ]
    },
    {
     "data": {
      "image/png": "[encoded data removed]",
      "text/plain": [
       "<Figure size 432x288 with 1 Axes>"
      ]
     },
     "metadata": {
      "needs_background": "light"
     },
     "output_type": "display_data"
    },
    {
     "data": {
      "image/png": "[encoded data removed]",
      "text/plain": [
       "<Figure size 432x288 with 1 Axes>"
      ]
     },
     "metadata": {
      "needs_background": "light"
     },
     "output_type": "display_data"
    },
    {
     "data": {
      "image/png": "[encoded data removed]",
      "text/plain": [
       "<Figure size 432x288 with 1 Axes>"
      ]
     },
     "metadata": {
      "needs_background": "light"
     },
     "output_type": "display_data"
    }
   ],
   "source": [
    "# Repeat for dataset with 10,000 patients\n",
    "# Test range of uncertainties\n",
    "stds = np.arange(0, 20, 0.5)\n",
    "ref_score = 0.223\n",
    "plot_brier_vs_std(syn_data_big, stds, model, var=pcp, fit=True, ref=ref_score)\n",
    "\n",
    "# Smear baseline score\n",
    "stds = np.arange(0, 2, 0.05)\n",
    "plot_brier_vs_std(syn_data_big, stds, model, var='baseline_EORTC_dry_mouth_binary', fit=True, ref=ref_score)\n",
    "\n",
    "# Smear outcome\n",
    "plot_brier_vs_std(syn_data_big, stds, model, fit=True, ref=ref_score)"
   ]
  },
  {
   "cell_type": "markdown",
   "metadata": {},
   "source": [
    "## Lyman classifer"
   ]
  },
  {
   "cell_type": "code",
   "execution_count": 177,
   "metadata": {},
   "outputs": [],
   "source": [
    "# Make Lyman classifier\n",
    "from sklearn.base import ClassifierMixin\n",
    "from scipy.optimize import curve_fit\n",
    "from scipy.special import erf\n",
    "\n",
    "class LymanClassifier(ClassifierMixin):\n",
    "    \n",
    "    def fit(self, X, y):\n",
    "        \"\"\"Fit the model according to the given training data \"\"\"\n",
    "        \n",
    "        popt, pcov = curve_fit(self._lyman_func, X, y)\n",
    "        self.D50_ = popt[0]\n",
    "        self.m_ = popt[1]\n",
    "            \n",
    "    def _lyman_func(self, D, D50, m):\n",
    "        return 0.5 * (1 + erf((D - D50) / (np.sqrt(2) * m * D50)))\n",
    "    \n",
    "    def predict_proba(self, X):\n",
    "        probs = self._lyman_func(np.array(X), self.D50_, self.m_)\n",
    "        return np.column_stack([1 - probs, probs])\n",
    "    \n",
    "    def predict(self, X):\n",
    "        return np.round(self.predict_proba(X))\n",
    "    \n",
    "    def get_params(self):\n",
    "        return {'D50': self.D50_, 'm': self.m_}\n",
    "    \n",
    "    def set_params(self, **params):\n",
    "        self.D50_ = params['D50']\n",
    "        self.m_ = params['m']\n",
    "    \n",
    "    classes_ = [0, 1]"
   ]
  },
  {
   "cell_type": "code",
   "execution_count": 183,
   "metadata": {},
   "outputs": [
    {
     "name": "stdout",
     "output_type": "stream",
     "text": [
      "{'D50': 47.04098498403741, 'm': 0.00021633464149289905}\n"
     ]
    },
    {
     "name": "stderr",
     "output_type": "stream",
     "text": [
      "/usr/local/lib/python3.8/site-packages/scipy/optimize/minpack.py:828: OptimizeWarning: Covariance of the parameters could not be estimated\n",
      "  warnings.warn('Covariance of the parameters could not be estimated',\n"
     ]
    },
    {
     "data": {
      "text/plain": [
       "Text(0, 0.5, 'NTCP')"
      ]
     },
     "execution_count": 183,
     "metadata": {},
     "output_type": "execute_result"
    },
    {
     "data": {
      "image/png": "[encoded data removed]",
      "text/plain": [
       "<Figure size 432x288 with 1 Axes>"
      ]
     },
     "metadata": {
      "needs_background": "light"
     },
     "output_type": "display_data"
    }
   ],
   "source": [
    "# Test\n",
    "X = np.arange(0, 80, 2)\n",
    "D50 = 43.6\n",
    "m = 0.18\n",
    "lc = LymanClassifier()\n",
    "\n",
    "def get_random_y(x, D50, m, std=0.1):\n",
    "    y_init = lc._lyman_func(x, D50, m)\n",
    "    y = y_init + np.random.normal(0, std)\n",
    "    while y < -0.5 or y >= 1.5:\n",
    "        y = y_init + np.random.normal(0, std)\n",
    "    return y\n",
    "\n",
    "y = [get_random_y(x, D50, m) for x in X]\n",
    "y_scores = [np.round(y) for y in y]\n",
    "\n",
    "plt.scatter(X, y_scores, label='Data')\n",
    "\n",
    "lc.fit(X, y_scores)\n",
    "print(lc.get_params())\n",
    "\n",
    "y_prob = lc.predict_proba(X)[:, 1]\n",
    "plt.plot(X, y_prob, 'r', label='Lyman model')\n",
    "plt.legend()\n",
    "plt.xlabel('Parotid gland mean dose')\n",
    "plt.ylabel('NTCP')"
   ]
  },
  {
   "cell_type": "markdown",
   "metadata": {},
   "source": [
    "## Lee 2012 xerostomia"
   ]
  },
  {
   "cell_type": "code",
   "execution_count": 623,
   "metadata": {},
   "outputs": [
    {
     "name": "stdout",
     "output_type": "stream",
     "text": [
      "\n",
      "12 months: removing 17 patients with high-grade xerostomia at baseline\n",
      "Final cohort: 156 patients\n",
      "Prevalence: 46.2%\n",
      "Brier score: 0.2930334642550659\n",
      "Mean of y_prob: 0.22517087530573668\n",
      "max brier: 0.17446895221978506\n",
      "Scaled Brier score: 1.6795737036691816\n",
      "ROC AUC: 0.6388888888888888\n",
      "95% confidence interval: [0.55, 0.73]\n",
      "Calibration slope: -0.0770631719689584\n",
      "Calibration intercept: 0.5099805613490097\n",
      "HL chi^2: nan\n",
      "p-value: nan\n"
     ]
    },
    {
     "name": "stderr",
     "output_type": "stream",
     "text": [
      "<ipython-input-618-f4ded93e3ed0>:119: RuntimeWarning: invalid value encountered in double_scalars\n",
      "  hl_stat += (zeros[i] - exp_zeros)**2 / exp_zeros + (ones[i] - exp_ones)**2 / exp_ones\n"
     ]
    },
    {
     "data": {
      "text/plain": [
       "<matplotlib.collections.PathCollection at 0x12b1de220>"
      ]
     },
     "execution_count": 623,
     "metadata": {},
     "output_type": "execute_result"
    },
    {
     "data": {
      "text/plain": [
       "<Figure size 432x288 with 0 Axes>"
      ]
     },
     "metadata": {},
     "output_type": "display_data"
    },
    {
     "data": {
      "image/png": "[encoded data removed]",
      "text/plain": [
       "<Figure size 432x288 with 1 Axes>"
      ]
     },
     "metadata": {
      "needs_background": "light"
     },
     "output_type": "display_data"
    },
    {
     "data": {
      "image/png": "[encoded data removed]",
      "text/plain": [
       "<Figure size 432x288 with 1 Axes>"
      ]
     },
     "metadata": {
      "needs_background": "light"
     },
     "output_type": "display_data"
    },
    {
     "data": {
      "image/png": "[encoded data removed]",
      "text/plain": [
       "<Figure size 432x288 with 1 Axes>"
      ]
     },
     "metadata": {
      "needs_background": "light"
     },
     "output_type": "display_data"
    }
   ],
   "source": [
    "# Test Lee 2012 with LKB\n",
    "# Load 12-month data\n",
    "df = pd.read_csv('data/final/late_12_months.csv')\n",
    "\n",
    "# Remove grade 3+ xerostomia at baseline\n",
    "df = df[df['baseline_EORTC_dry_mouth'].notnull()]\n",
    "high_baseline = df[df['baseline_EORTC_dry_mouth'] >= 3]['patient']\n",
    "print('\\n{} months: removing {} patients with high-grade xerostomia at baseline'.format(n, len(high_baseline)))\n",
    "df = df[~df['patient'].isin(high_baseline_patients)]\n",
    "print('Final cohort: {} patients'.format(len(df)))\n",
    "\n",
    "# Create model\n",
    "lc = LymanClassifier()\n",
    "lc.set_params(D50=43.9, m=0.48)\n",
    "#lc.fit(X, y)\n",
    "\n",
    "# Validate model\n",
    "X = df['parotid_contralateral_planned']\n",
    "y = df['EORTC_dry_mouth']\n",
    "y_prob = validate_model(lc, X, y, name='Lee 2012')\n",
    "\n",
    "# Plot model vs data\n",
    "X_plot = np.arange(X.min(), X.max(), 1)\n",
    "y_plot = lc.predict_proba(X_plot)[:,1]\n",
    "plt.figure(figsize=(6, 4))\n",
    "plt.plot(X_plot, y_plot, 'r')\n",
    "plt.scatter(X, y, alpha=0.3)"
   ]
  },
  {
   "cell_type": "markdown",
   "metadata": {},
   "source": [
    "## Christianen 2012 dysphagia"
   ]
  },
  {
   "cell_type": "code",
   "execution_count": 636,
   "metadata": {},
   "outputs": [
    {
     "name": "stdout",
     "output_type": "stream",
     "text": [
      "\n",
      "12 months: removing 48 patients with high-grade dysphagia at baseline\n",
      "Final cohort: 154 patients\n",
      "Prevalence: 32.5%\n",
      "Brier score: 0.21122852126519734\n",
      "Mean of y_prob: 0.29887423792409756\n",
      "max brier: 0.20954842782938746\n",
      "Scaled Brier score: 1.008017685712144\n",
      "ROC AUC: 0.6246153846153846\n",
      "95% confidence interval: [0.53, 0.72]\n",
      "Calibration slope: 0.6378554278539177\n",
      "Calibration intercept: 0.11531726948841894\n",
      "HL chi^2: nan\n",
      "p-value: nan\n"
     ]
    },
    {
     "name": "stderr",
     "output_type": "stream",
     "text": [
      "<ipython-input-618-f4ded93e3ed0>:119: RuntimeWarning: invalid value encountered in double_scalars\n",
      "  hl_stat += (zeros[i] - exp_zeros)**2 / exp_zeros + (ones[i] - exp_ones)**2 / exp_ones\n"
     ]
    },
    {
     "data": {
      "text/plain": [
       "<Figure size 432x288 with 0 Axes>"
      ]
     },
     "metadata": {},
     "output_type": "display_data"
    },
    {
     "data": {
      "image/png": "[encoded data removed]",
      "text/plain": [
       "<Figure size 432x288 with 1 Axes>"
      ]
     },
     "metadata": {
      "needs_background": "light"
     },
     "output_type": "display_data"
    },
    {
     "data": {
      "image/png": "[encoded data removed]",
      "text/plain": [
       "<Figure size 432x288 with 1 Axes>"
      ]
     },
     "metadata": {
      "needs_background": "light"
     },
     "output_type": "display_data"
    }
   ],
   "source": [
    "# Test Christianen dysphagia 2012\n",
    "# Load 6-month data\n",
    "df = pd.read_csv('data/final/late_6_months.csv')\n",
    "\n",
    "# Remove grade 2+ dysphagia at baseline\n",
    "df = df[df['baseline_CTCAE_dysphagia'].notnull() & df['sg_larynx_planned'].notnull()]\n",
    "high_baseline = df[df['baseline_CTCAE_dysphagia'] >= 1]['patient']\n",
    "print('\\n{} months: removing {} patients with high-grade dysphagia at baseline'.format(n, len(high_baseline)))\n",
    "df = df[~df['patient'].isin(high_baseline_patients)]\n",
    "print('Final cohort: {} patients'.format(len(df)))\n",
    "\n",
    "# Binarise scores\n",
    "df['baseline_CTCAE_dysphagia'] = df['baseline_CTCAE_dysphagia'] == 1\n",
    "df['CTCAE_dysphagia'] = df['CTCAE_dysphagia_grade'] >= 1\n",
    "\n",
    "# Get features and outcomes\n",
    "X = df[['spc_planned', 'sg_larynx_planned']]\n",
    "y = df['CTCAE_dysphagia']\n",
    "\n",
    "# Make model\n",
    "from sklearn.linear_model import LogisticRegression\n",
    "model = LogisticRegression()\n",
    "model.fit(X, y)\n",
    "model.coef_\n",
    "model.coef_ = np.array([[0.057, 0.037]])\n",
    "model.intercept_ = np.array([-6.09])\n",
    "\n",
    "# Validate\n",
    "validate_model(model, X, y, name=\"Christianen 2012\");"
   ]
  },
  {
   "cell_type": "code",
   "execution_count": 675,
   "metadata": {},
   "outputs": [
    {
     "data": {
      "text/plain": [
       "<AxesSubplot:>"
      ]
     },
     "execution_count": 675,
     "metadata": {},
     "output_type": "execute_result"
    },
    {
     "data": {
      "image/png": "[encoded data removed]",
      "text/plain": [
       "<Figure size 432x288 with 1 Axes>"
      ]
     },
     "metadata": {
      "needs_background": "light"
     },
     "output_type": "display_data"
    }
   ],
   "source": [
    "df['CTCAE_dysphagia_grade'].hist()"
   ]
  },
  {
   "cell_type": "markdown",
   "metadata": {},
   "source": [
    "## Tsai 2017 dysphagia"
   ]
  },
  {
   "cell_type": "code",
   "execution_count": 459,
   "metadata": {},
   "outputs": [
    {
     "name": "stdout",
     "output_type": "stream",
     "text": [
      "\n",
      " Validating model for grade 2+\n"
     ]
    },
    {
     "name": "stderr",
     "output_type": "stream",
     "text": [
      "/usr/local/lib/python3.8/site-packages/sklearn/metrics/_classification.py:1221: UndefinedMetricWarning: Precision and F-score are ill-defined and being set to 0.0 in labels with no predicted samples. Use `zero_division` parameter to control this behavior.\n",
      "  _warn_prf(average, modifier, msg_start, len(result))\n",
      "<ipython-input-459-922686992e13>:40: RankWarning: Polyfit may be poorly conditioned\n",
      "  y_prob = validate_model(\"Tsai_{}\".format(g), model, X, y);\n",
      "/usr/local/lib/python3.8/site-packages/sklearn/metrics/_classification.py:1221: UndefinedMetricWarning: Precision and F-score are ill-defined and being set to 0.0 in labels with no predicted samples. Use `zero_division` parameter to control this behavior.\n",
      "  _warn_prf(average, modifier, msg_start, len(result))\n"
     ]
    },
    {
     "name": "stdout",
     "output_type": "stream",
     "text": [
      "\n",
      "[INFO] Model validation log saved to validation_results/Tsai_2/validation.log\n",
      "\n",
      " Validating model for grade 3+\n",
      "\n",
      "[INFO] Model validation log saved to validation_results/Tsai_3/validation.log\n"
     ]
    },
    {
     "name": "stderr",
     "output_type": "stream",
     "text": [
      "<ipython-input-459-922686992e13>:40: RankWarning: Polyfit may be poorly conditioned\n",
      "  y_prob = validate_model(\"Tsai_{}\".format(g), model, X, y);\n"
     ]
    },
    {
     "data": {
      "text/plain": [
       "<Figure size 432x288 with 0 Axes>"
      ]
     },
     "metadata": {},
     "output_type": "display_data"
    },
    {
     "data": {
      "text/plain": [
       "<Figure size 432x288 with 0 Axes>"
      ]
     },
     "metadata": {},
     "output_type": "display_data"
    }
   ],
   "source": [
    "# Test Tsai dysphagia 2017\n",
    "# Load all late data\n",
    "df = pd.read_csv('data/final/late_all.csv')\n",
    "df = df[df['months'] > 6]\n",
    "patients = df['patient'].unique()\n",
    "\n",
    "# Load patient info\n",
    "patient_info = pd.read_csv('data/final/patient_info.csv')\n",
    "df2 = patient_info[patient_info['patient'].isin(patients)][['patient', 'age', 'spc_planned', 'primary site', 'SACT_binary']]\n",
    "df2 = df2[df2['SACT_binary'] == 1]\n",
    "\n",
    "# Get max dysphagia grade after 6 months\n",
    "df2['CTCAE_dysphagia_max'] = df2['patient'].apply(lambda p: df[df['patient'] == p]['CTCAE_dysphagia_grade'].max())\n",
    "\n",
    "# Binarise scores\n",
    "df2['CTCAE_dysphagia_2'] = df2['CTCAE_dysphagia_max'] >= 2\n",
    "df2['CTCAE_dysphagia_3'] = df2['CTCAE_dysphagia_max'] >= 3\n",
    "df2['site'] = df2['primary site'] == 'oropharynx'\n",
    "\n",
    "# Get features and outcomes\n",
    "X = df2[['spc_planned', 'age', 'site']]\n",
    "\n",
    "for g in ['2', '3']:\n",
    "    \n",
    "    y = df2['CTCAE_dysphagia_{}'.format(g)]\n",
    "    print('\\n Validating model for grade {}+'.format(g))\n",
    "\n",
    "    # Make model\n",
    "    from sklearn.linear_model import LogisticRegression\n",
    "    model = LogisticRegression()\n",
    "    model.fit(X, y)\n",
    "    if g == '2':\n",
    "        model.coef_ = np.array([[0.158, 0.0516, 0.827]])\n",
    "        model.intercept_ = np.array([-17.2])\n",
    "    else:\n",
    "        model.coef_ = np.array([[0.174, 0.0681, 1.49]])\n",
    "        model.intercept_ = np.array([-21.9])\n",
    "\n",
    "    # Validate\n",
    "    y_prob = validate_model(\"Tsai_{}\".format(g), model, X, y);\n",
    "    "
   ]
  },
  {
   "cell_type": "markdown",
   "metadata": {},
   "source": [
    "## Generate simulated data"
   ]
  },
  {
   "cell_type": "code",
   "execution_count": null,
   "metadata": {},
   "outputs": [],
   "source": []
  },
  {
   "cell_type": "code",
   "execution_count": null,
   "metadata": {},
   "outputs": [],
   "source": [
    "    \n",
    "#     # Perform Hosmer-Lesemow goodness-of-fit test\n",
    "#     g = 7\n",
    "#     bin_width = (np.max(y_pred) - np.min(y_pred)) / g\n",
    "#     bins_low = np.arange(np.min(y_pred), np.max(y_pred), bin_width)\n",
    "#     ones = np.zeros(g)\n",
    "#     zeros = np.zeros(g)\n",
    "#     hl_stat = 0\n",
    "#     for i in range(g):\n",
    "        \n",
    "#         # Get number of true ones and zeros in this group\n",
    "#         for j, p in enumerate(y_prob):\n",
    "#             if p > bins_low[i] and p < bins_low[i] + bin_width:\n",
    "#                 true_y = y.iloc[j]\n",
    "#                 if true_y:\n",
    "#                     ones[i] += 1\n",
    "#                 else:\n",
    "#                     zeros[i] += 1\n",
    "                    \n",
    "#         # Add to the score\n",
    "#         exp_ones = p * (ones[i] + zeros[i])\n",
    "#         exp_zeros = ones[i] + zeros[i] - exp_ones\n",
    "#         hl_stat += (zeros[i] - exp_zeros)**2 / exp_zeros + (ones[i] - exp_ones)**2 / exp_ones\n",
    "        \n",
    "#     # Calculate p-value from HL score\n",
    "#     dof = g - 2\n",
    "#     pval = chi2.cdf(hl_stat, dof)\n",
    "#     print('HL chi^2:', hl_stat)\n",
    "#     print('p-value:', pval)"
   ]
  },
  {
   "cell_type": "code",
   "execution_count": 6,
   "metadata": {},
   "outputs": [],
   "source": [
    "import json\n",
    "from scipy.stats import chi2_contingency\n",
    "\n",
    "def demographics_table(name, df, to_compare=None):\n",
    "    \n",
    "    # Load json if required\n",
    "    name2 = name.replace(' ', '_').lower()\n",
    "    if to_compare is None:\n",
    "        with open(f'demographics/{name2}.json') as file:\n",
    "            to_compare = json.load(file)\n",
    "    \n",
    "    # Open latex file and set up table\n",
    "    file = open(f'demographics/{name2}.tex', 'w')\n",
    "    file.write('\\\\begin{table}\\n')\n",
    "    file.write(f'    \\\\caption{{Demographics and tumour characteristics for the {name} cohort'\n",
    "                ' (training set) and the VoxTox cohort (validation set).}\\n')\n",
    "    file.write('    \\\\begin{tabular}{lllll}\\n')\n",
    "    file.write('        \\\\toprule\\n')\n",
    "    file.write(f'        \\\\multicolumn{{2}}{{l}}{{Characteristic}} & {name} & VoxTox & $p$-value \\\\\\\\\\n')\n",
    "    file.write('        \\\\midrule\\n')\n",
    "    \n",
    "    # Write number of patients first if included\n",
    "    if 'n_patients' in to_compare:\n",
    "        file.write(f'        \\\\multicolumn{{2}}{{l}}{{Number of patients}} & {to_compare[\"n_patients\"]}'\n",
    "                   f' & {len(df)} & \\\\\\\\\\n')\n",
    "    \n",
    "    # Loop through characteristics\n",
    "    for c in to_compare.keys():\n",
    "        if c == 'n_patients':\n",
    "            continue\n",
    "        file.write(f'        {c.capitalize()} &')\n",
    "        cats = to_compare[c]\n",
    "        \n",
    "        # Make arrays for chisq test\n",
    "        vals1 = []\n",
    "        vals2 = []\n",
    "        \n",
    "        # Loop through categories of the characteristic\n",
    "        extra_lines = []\n",
    "        for i, cat in enumerate(cats.keys()):\n",
    "            val1 = cats[cat]\n",
    "            name = cat.capitalize()\n",
    "            \n",
    "            # Extract characteristic from VoxTox dataset\n",
    "            val2 = 0\n",
    "            counted = 0\n",
    "            n_other = 0\n",
    "            \n",
    "            # Sex\n",
    "            if c == 'sex':\n",
    "                val2 = (df['male'] == (cat == 'male')).sum()\n",
    "                \n",
    "            # Age\n",
    "            elif c == 'age':\n",
    "                if cat.startswith('<'):\n",
    "                    cutoff = int(cat[2:])\n",
    "                    val2 = (df['age'] < cutoff).sum()\n",
    "                    name = f'$< {cutoff}$'\n",
    "                elif cat.startswith('>'):\n",
    "                    cutoff = int(cat[2:])\n",
    "                    val2 = (df['age'] >= cutoff).sum()\n",
    "                    name = f'$>= {cutoff}$'\n",
    "                elif cat == 'mean':\n",
    "                    val2 = f'{df[\"age\"].mean():.1f}'\n",
    "                elif cat == 'range':\n",
    "                    val2 = f'{int(df[\"age\"].min())} -- {int(df[\"age\"].max())}'\n",
    "            \n",
    "            # Cisplatin/cetuximab\n",
    "            elif c == 'chemotherapy':\n",
    "                var_to_use = 'cisplatin' if 'cetuximab' in to_compare else 'SACT'\n",
    "                val2 = (df[var_to_use] == (cat == 'yes')).sum()\n",
    "            elif c == 'cetuximab':\n",
    "                val2 = ((df['SACT'] & ~df['cisplatin']) == (cat == 'yes')).sum()\n",
    "                \n",
    "            # Tumour site\n",
    "            elif c == 'site':\n",
    "                site = cat\n",
    "                if cat == 'unknown primary':\n",
    "                    site = 'CUP'\n",
    "                if cat == 'other':\n",
    "                    n_other = val1\n",
    "                    continue\n",
    "                val2 = (df['primary site'] == site).sum()\n",
    "                counted += val2\n",
    "                \n",
    "            # Tumour classification\n",
    "            elif c == 'tumour classification':\n",
    "                T_stage = int(cat[-1])\n",
    "                val2 = (df['T_stage'] == T_stage).sum()\n",
    "            elif c == 'node classification':\n",
    "                val2 = ((df['N_stage'] > 0) == (cat == 'positive')).sum()\n",
    "                \n",
    "            # Neck irradiation\n",
    "            elif c == 'bilateral neck irradiation':\n",
    "                val2 = (df['neck_bi'] == (cat == 'yes')).sum()\n",
    "                \n",
    "            # Unknown characteristic\n",
    "            else:\n",
    "                print(f'[INFO] Characteristic {c} not recognised!')\n",
    "                \n",
    "                \n",
    "            # Add values to arrays\n",
    "            vals1.append(val1)\n",
    "            vals2.append(val2)\n",
    "                \n",
    "            # Write info to file\n",
    "            if i == 0:\n",
    "                file.write(f' {name} & {val1} & {val2} & ')\n",
    "            else:\n",
    "                extra_lines.append(f'        & {name} & {val1} & {val2} & \\\\\\\\\\n')\n",
    "                \n",
    "        # Extra line for patients with other tumour sites\n",
    "        if c == 'site' and (counted != len(df) or n_other):\n",
    "            diff = len(df) - counted\n",
    "            extra_lines.append(f'        & Other & {n_other} & {diff} & \\\\\\\\\\n')\n",
    "            vals1.append(n_other)\n",
    "            vals2.append(diff)\n",
    "            site_list = list(cats.keys()) + ['CUP']\n",
    "            sites_missed = df[~df['primary site'].isin(site_list)]['primary site'].unique()\n",
    "            print('[INFO] The following tumour sites were classified as \"other\":')\n",
    "            print('      ', sites_missed)\n",
    "                \n",
    "        # Calculate p-value\n",
    "        obs = np.array([vals1, vals2])\n",
    "        chi2, p_val, dof, exp = chi2_contingency(obs)\n",
    "        p_to_write = '$< 0.01$' if p_val < 0.01 else f'{p_val:.2f}'\n",
    "        file.write(f'{p_to_write} \\\\\\\\\\n')\n",
    "        \n",
    "        # Write extra lines\n",
    "        for line in extra_lines:\n",
    "            file.write(line)\n",
    "            \n",
    "    # End table\n",
    "    file.write('        \\\\bottomrule\\n')\n",
    "    file.write('    \\\\end{tabular}\\n')\n",
    "    file.write('\\\\end{table}\\n')\n",
    "    file.write(f'\\\\label{{tab:{name2}_demog}}\\n')\n",
    "    file.close()\n",
    "    "
   ]
  },
  {
   "cell_type": "code",
   "execution_count": null,
   "metadata": {},
   "outputs": [],
   "source": []
  }
 ],
 "metadata": {
  "kernelspec": {
   "display_name": "Python 3",
   "language": "python",
   "name": "python3"
  },
  "language_info": {
   "codemirror_mode": {
    "name": "ipython",
    "version": 3
   },
   "file_extension": ".py",
   "mimetype": "text/x-python",
   "name": "python",
   "nbconvert_exporter": "python",
   "pygments_lexer": "ipython3",
   "version": "3.8.3"
  }
 },
 "nbformat": 4,
 "nbformat_minor": 4
}
